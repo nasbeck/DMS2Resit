{
 "cells": [
  {
   "cell_type": "markdown",
   "id": "spoken-reverse",
   "metadata": {},
   "source": [
    "# CHAPTER 1 - Python Basics"
   ]
  },
  {
   "cell_type": "code",
   "execution_count": 1,
   "id": "silver-arcade",
   "metadata": {},
   "outputs": [
    {
     "data": {
      "text/plain": [
       "4"
      ]
     },
     "execution_count": 1,
     "metadata": {},
     "output_type": "execute_result"
    }
   ],
   "source": [
    "2+2\n"
   ]
  },
  {
   "cell_type": "code",
   "execution_count": 6,
   "id": "overhead-measure",
   "metadata": {
    "scrolled": true
   },
   "outputs": [
    {
     "data": {
      "text/plain": [
       "16.0"
      ]
     },
     "execution_count": 6,
     "metadata": {},
     "output_type": "execute_result"
    }
   ],
   "source": [
    "(5-1)*((7+1)/(3-1))"
   ]
  },
  {
   "cell_type": "code",
   "execution_count": 20,
   "id": "intensive-brick",
   "metadata": {},
   "outputs": [
    {
     "ename": "SyntaxError",
     "evalue": "invalid syntax (<ipython-input-20-16e07b76f178>, line 1)",
     "output_type": "error",
     "traceback": [
      "\u001b[1;36m  File \u001b[1;32m\"<ipython-input-20-16e07b76f178>\"\u001b[1;36m, line \u001b[1;32m1\u001b[0m\n\u001b[1;33m    42 + 5 + * 2\u001b[0m\n\u001b[1;37m             ^\u001b[0m\n\u001b[1;31mSyntaxError\u001b[0m\u001b[1;31m:\u001b[0m invalid syntax\n"
     ]
    }
   ],
   "source": [
    "42 + 5 + * 2"
   ]
  },
  {
   "cell_type": "code",
   "execution_count": 9,
   "id": "centered-march",
   "metadata": {},
   "outputs": [
    {
     "data": {
      "text/plain": [
       "'AliceAliceAliceAliceAlice'"
      ]
     },
     "execution_count": 9,
     "metadata": {},
     "output_type": "execute_result"
    }
   ],
   "source": [
    "'Alice' *5"
   ]
  },
  {
   "cell_type": "code",
   "execution_count": 3,
   "id": "supported-sweet",
   "metadata": {},
   "outputs": [],
   "source": [
    "spam = 40"
   ]
  },
  {
   "cell_type": "code",
   "execution_count": 4,
   "id": "lucky-mystery",
   "metadata": {},
   "outputs": [
    {
     "data": {
      "text/plain": [
       "40"
      ]
     },
     "execution_count": 4,
     "metadata": {},
     "output_type": "execute_result"
    }
   ],
   "source": [
    "spam\n"
   ]
  },
  {
   "cell_type": "markdown",
   "id": "american-groove",
   "metadata": {},
   "source": [
    "My First Program"
   ]
  },
  {
   "cell_type": "code",
   "execution_count": 1,
   "id": "fitting-kansas",
   "metadata": {},
   "outputs": [
    {
     "name": "stdout",
     "output_type": "stream",
     "text": [
      "Hello, world!\n",
      "What is your name?\n",
      "ahmet\n",
      "It is good to meet you, ahmet\n",
      "The length of your name is:\n",
      "5\n",
      "What is your age?\n",
      "6\n",
      "You will be 7 in a year.\n"
     ]
    }
   ],
   "source": [
    " print('Hello, world!')\n",
    "print('What is your name?')    # ask for their name\n",
    "myName = input()\n",
    "print('It is good to meet you, ' + myName)\n",
    "print('The length of your name is:')\n",
    "print(len(myName))\n",
    "print('What is your age?')    # ask for their age\n",
    "myAge = input()\n",
    "print('You will be ' + str(int(myAge) + 1) + ' in a year.')"
   ]
  },
  {
   "cell_type": "markdown",
   "id": "twelve-exception",
   "metadata": {},
   "source": [
    "# Chapter 1 - Practice Questions 1-10\n"
   ]
  },
  {
   "cell_type": "markdown",
   "id": "external-procurement",
   "metadata": {},
   "source": [
    "Question 1"
   ]
  },
  {
   "cell_type": "code",
   "execution_count": 2,
   "id": "designing-serbia",
   "metadata": {},
   "outputs": [],
   "source": [
    "a = 'hello'\n",
    "b = -88.8\n",
    "c = 5"
   ]
  },
  {
   "cell_type": "markdown",
   "id": "brief-longitude",
   "metadata": {},
   "source": [
    "Values: -88.8, 5\n",
    "Operators: +, -, /, *\n",
    "Store Strings: hello\n",
    "Floating point number:-88.8\n",
    "Integer: 5"
   ]
  },
  {
   "cell_type": "markdown",
   "id": "every-broadway",
   "metadata": {},
   "source": [
    "a + b #for example, a+b is an expression, a and b are values, + is the operator"
   ]
  },
  {
   "cell_type": "markdown",
   "id": "nonprofit-system",
   "metadata": {},
   "source": [
    "Question 2"
   ]
  },
  {
   "cell_type": "markdown",
   "id": "chemical-january",
   "metadata": {},
   "source": [
    "spam is a variable\n",
    "'spam' is a string\n"
   ]
  },
  {
   "cell_type": "markdown",
   "id": "fresh-robinson",
   "metadata": {},
   "source": [
    "Question 3"
   ]
  },
  {
   "cell_type": "markdown",
   "id": "ultimate-pillow",
   "metadata": {},
   "source": [
    "3 Data types:\n",
    "'str' 'int' 'float'"
   ]
  },
  {
   "cell_type": "markdown",
   "id": "genetic-pride",
   "metadata": {},
   "source": [
    "Question 4"
   ]
  },
  {
   "cell_type": "markdown",
   "id": "qualified-consistency",
   "metadata": {},
   "source": [
    "Expression = 4+2 in this example + is an operator. Valus and operators creates expressions."
   ]
  },
  {
   "cell_type": "markdown",
   "id": "raising-secondary",
   "metadata": {},
   "source": [
    "Question 5"
   ]
  },
  {
   "cell_type": "markdown",
   "id": "choice-center",
   "metadata": {},
   "source": [
    "Expression results in as a certain value by functioning through operators,on the other hand statement functions as a variable."
   ]
  },
  {
   "cell_type": "markdown",
   "id": "addressed-recipient",
   "metadata": {},
   "source": [
    "Question 6"
   ]
  },
  {
   "cell_type": "code",
   "execution_count": 4,
   "id": "stone-person",
   "metadata": {},
   "outputs": [
    {
     "data": {
      "text/plain": [
       "21"
      ]
     },
     "execution_count": 4,
     "metadata": {},
     "output_type": "execute_result"
    }
   ],
   "source": [
    "bacon = 20\n",
    "bacon + 1"
   ]
  },
  {
   "cell_type": "code",
   "execution_count": 5,
   "id": "danish-momentum",
   "metadata": {},
   "outputs": [
    {
     "data": {
      "text/plain": [
       "20"
      ]
     },
     "execution_count": 5,
     "metadata": {},
     "output_type": "execute_result"
    }
   ],
   "source": [
    "bacon"
   ]
  },
  {
   "cell_type": "markdown",
   "id": "foster-athletics",
   "metadata": {},
   "source": [
    "Question 7 "
   ]
  },
  {
   "cell_type": "code",
   "execution_count": 6,
   "id": "pressed-somalia",
   "metadata": {},
   "outputs": [
    {
     "data": {
      "text/plain": [
       "'spamspamspam'"
      ]
     },
     "execution_count": 6,
     "metadata": {},
     "output_type": "execute_result"
    }
   ],
   "source": [
    "'spam'+'spamspam'"
   ]
  },
  {
   "cell_type": "markdown",
   "id": "accepting-thompson",
   "metadata": {},
   "source": [
    "Question 8"
   ]
  },
  {
   "cell_type": "markdown",
   "id": "informational-savings",
   "metadata": {},
   "source": [
    "100 is an example of an ınteger value. Integer value = certain value. Variable names could not start with a number."
   ]
  },
  {
   "cell_type": "markdown",
   "id": "confidential-valley",
   "metadata": {},
   "source": [
    "Question 9"
   ]
  },
  {
   "cell_type": "markdown",
   "id": "planned-filing",
   "metadata": {},
   "source": [
    "int(), float(), str()"
   ]
  },
  {
   "cell_type": "code",
   "execution_count": 13,
   "id": "creative-shareware",
   "metadata": {},
   "outputs": [
    {
     "data": {
      "text/plain": [
       "2"
      ]
     },
     "execution_count": 13,
     "metadata": {},
     "output_type": "execute_result"
    }
   ],
   "source": [
    "int(2.5)"
   ]
  },
  {
   "cell_type": "code",
   "execution_count": 15,
   "id": "simplified-contest",
   "metadata": {},
   "outputs": [
    {
     "data": {
      "text/plain": [
       "5.0"
      ]
     },
     "execution_count": 15,
     "metadata": {},
     "output_type": "execute_result"
    }
   ],
   "source": [
    "float(5)"
   ]
  },
  {
   "cell_type": "code",
   "execution_count": 17,
   "id": "severe-force",
   "metadata": {},
   "outputs": [
    {
     "data": {
      "text/plain": [
       "'3'"
      ]
     },
     "execution_count": 17,
     "metadata": {},
     "output_type": "execute_result"
    }
   ],
   "source": [
    "str(3)"
   ]
  },
  {
   "cell_type": "markdown",
   "id": "assured-concord",
   "metadata": {},
   "source": [
    "Question 10"
   ]
  },
  {
   "cell_type": "markdown",
   "id": "framed-reputation",
   "metadata": {},
   "source": [
    "Due to 99 is a numver it cannot be used as an additive operator with strings"
   ]
  },
  {
   "cell_type": "code",
   "execution_count": 19,
   "id": "diagnostic-flush",
   "metadata": {},
   "outputs": [
    {
     "data": {
      "text/plain": [
       "'I have eaten 99 burritos.'"
      ]
     },
     "execution_count": 19,
     "metadata": {},
     "output_type": "execute_result"
    }
   ],
   "source": [
    "'I have eaten ' + str(99) + ' burritos.'"
   ]
  },
  {
   "cell_type": "markdown",
   "id": "romance-outreach",
   "metadata": {},
   "source": [
    "# Chapter 1 Evaluation"
   ]
  },
  {
   "cell_type": "markdown",
   "id": "unsigned-westminster",
   "metadata": {},
   "source": [
    "After quite an easy set-up process. I had a chance to learn expressions,  interactions as well as basic operation methods which was achived through following the examples in the book. While additive operator is used to connect two strings, strings can be multipled by the integers ('int'. On the other hand, values cannot be assigned by using expression. Morover, statement claims can be used to assign variables and values. "
   ]
  },
  {
   "cell_type": "markdown",
   "id": "suffering-formation",
   "metadata": {},
   "source": [
    "# Chapter 2 - Flow Control"
   ]
  },
  {
   "cell_type": "markdown",
   "id": "minimal-cigarette",
   "metadata": {},
   "source": [
    "Question 1 \n",
    "\n",
    "True and False"
   ]
  },
  {
   "cell_type": "markdown",
   "id": "jewish-paper",
   "metadata": {},
   "source": [
    "Question 2 \n",
    "\n",
    "and, or, not"
   ]
  },
  {
   "cell_type": "markdown",
   "id": "returning-columbus",
   "metadata": {},
   "source": [
    "Question 3"
   ]
  },
  {
   "cell_type": "code",
   "execution_count": 2,
   "id": "racial-brooks",
   "metadata": {},
   "outputs": [
    {
     "data": {
      "text/plain": [
       "False"
      ]
     },
     "execution_count": 2,
     "metadata": {},
     "output_type": "execute_result"
    }
   ],
   "source": [
    "True and False"
   ]
  },
  {
   "cell_type": "code",
   "execution_count": 9,
   "id": "efficient-murder",
   "metadata": {},
   "outputs": [
    {
     "data": {
      "text/plain": [
       "False"
      ]
     },
     "execution_count": 9,
     "metadata": {},
     "output_type": "execute_result"
    }
   ],
   "source": [
    "False and True"
   ]
  },
  {
   "cell_type": "code",
   "execution_count": 4,
   "id": "grave-relation",
   "metadata": {},
   "outputs": [
    {
     "data": {
      "text/plain": [
       "True"
      ]
     },
     "execution_count": 4,
     "metadata": {},
     "output_type": "execute_result"
    }
   ],
   "source": [
    "True and True"
   ]
  },
  {
   "cell_type": "code",
   "execution_count": 10,
   "id": "accessory-mechanism",
   "metadata": {},
   "outputs": [
    {
     "data": {
      "text/plain": [
       "False"
      ]
     },
     "execution_count": 10,
     "metadata": {},
     "output_type": "execute_result"
    }
   ],
   "source": [
    "False and False"
   ]
  },
  {
   "cell_type": "code",
   "execution_count": 5,
   "id": "enclosed-liverpool",
   "metadata": {},
   "outputs": [
    {
     "data": {
      "text/plain": [
       "True"
      ]
     },
     "execution_count": 5,
     "metadata": {},
     "output_type": "execute_result"
    }
   ],
   "source": [
    "True or False"
   ]
  },
  {
   "cell_type": "code",
   "execution_count": 11,
   "id": "simplified-martin",
   "metadata": {},
   "outputs": [
    {
     "data": {
      "text/plain": [
       "True"
      ]
     },
     "execution_count": 11,
     "metadata": {},
     "output_type": "execute_result"
    }
   ],
   "source": [
    "False or True"
   ]
  },
  {
   "cell_type": "code",
   "execution_count": 12,
   "id": "traditional-assignment",
   "metadata": {},
   "outputs": [
    {
     "data": {
      "text/plain": [
       "True"
      ]
     },
     "execution_count": 12,
     "metadata": {},
     "output_type": "execute_result"
    }
   ],
   "source": [
    "True or True"
   ]
  },
  {
   "cell_type": "code",
   "execution_count": 7,
   "id": "searching-rolling",
   "metadata": {},
   "outputs": [
    {
     "data": {
      "text/plain": [
       "False"
      ]
     },
     "execution_count": 7,
     "metadata": {},
     "output_type": "execute_result"
    }
   ],
   "source": [
    "not True"
   ]
  },
  {
   "cell_type": "code",
   "execution_count": 8,
   "id": "ordinary-roman",
   "metadata": {},
   "outputs": [
    {
     "data": {
      "text/plain": [
       "True"
      ]
     },
     "execution_count": 8,
     "metadata": {},
     "output_type": "execute_result"
    }
   ],
   "source": [
    "not False"
   ]
  },
  {
   "cell_type": "markdown",
   "id": "hourly-array",
   "metadata": {},
   "source": [
    "Question 4\n"
   ]
  },
  {
   "cell_type": "code",
   "execution_count": 13,
   "id": "hindu-visitor",
   "metadata": {},
   "outputs": [
    {
     "data": {
      "text/plain": [
       "False"
      ]
     },
     "execution_count": 13,
     "metadata": {},
     "output_type": "execute_result"
    }
   ],
   "source": [
    "(5 > 4) and (3 == 5)"
   ]
  },
  {
   "cell_type": "code",
   "execution_count": 14,
   "id": "fiscal-student",
   "metadata": {},
   "outputs": [
    {
     "data": {
      "text/plain": [
       "False"
      ]
     },
     "execution_count": 14,
     "metadata": {},
     "output_type": "execute_result"
    }
   ],
   "source": [
    "not (5 > 4) "
   ]
  },
  {
   "cell_type": "code",
   "execution_count": 15,
   "id": "devoted-wrapping",
   "metadata": {},
   "outputs": [
    {
     "data": {
      "text/plain": [
       "True"
      ]
     },
     "execution_count": 15,
     "metadata": {},
     "output_type": "execute_result"
    }
   ],
   "source": [
    "(5 > 4) or (3 == 5)"
   ]
  },
  {
   "cell_type": "code",
   "execution_count": 16,
   "id": "abandoned-optimization",
   "metadata": {},
   "outputs": [
    {
     "data": {
      "text/plain": [
       "False"
      ]
     },
     "execution_count": 16,
     "metadata": {},
     "output_type": "execute_result"
    }
   ],
   "source": [
    "not ((5 > 4) or (3 == 5))"
   ]
  },
  {
   "cell_type": "code",
   "execution_count": 17,
   "id": "knowing-intention",
   "metadata": {},
   "outputs": [
    {
     "data": {
      "text/plain": [
       "False"
      ]
     },
     "execution_count": 17,
     "metadata": {},
     "output_type": "execute_result"
    }
   ],
   "source": [
    "(True and True) and (True == False)"
   ]
  },
  {
   "cell_type": "code",
   "execution_count": 18,
   "id": "molecular-value",
   "metadata": {},
   "outputs": [
    {
     "data": {
      "text/plain": [
       "True"
      ]
     },
     "execution_count": 18,
     "metadata": {},
     "output_type": "execute_result"
    }
   ],
   "source": [
    "(not False) or (not True)"
   ]
  },
  {
   "cell_type": "markdown",
   "id": "waiting-drink",
   "metadata": {},
   "source": [
    "Question 5\n",
    "\n",
    ">=, <= , >, <,==,!="
   ]
  },
  {
   "cell_type": "markdown",
   "id": "antique-spotlight",
   "metadata": {},
   "source": [
    "Question 6 \n",
    "\n",
    "Boolean Operator which compares two values is represented by == , on the other hand, = is a variable and defines a value."
   ]
  },
  {
   "cell_type": "markdown",
   "id": "impaired-vancouver",
   "metadata": {},
   "source": [
    "Question 7\n",
    "\n",
    "\n",
    "Boolean value could be evaluated by the condition."
   ]
  },
  {
   "cell_type": "markdown",
   "id": "mineral-offense",
   "metadata": {},
   "source": [
    "Question 8\n",
    "\n",
    "Block 1: print('eggs') if spam > 5: print('bacon') else: print('ham') print('spam')\n",
    "\n",
    "Block 2: print('bacon')\n",
    "\n",
    "Block 3: print('ham')\n"
   ]
  },
  {
   "cell_type": "markdown",
   "id": "radical-consortium",
   "metadata": {},
   "source": [
    "Question 9"
   ]
  },
  {
   "cell_type": "code",
   "execution_count": 22,
   "id": "floppy-atmosphere",
   "metadata": {},
   "outputs": [
    {
     "name": "stdout",
     "output_type": "stream",
     "text": [
      "1\n",
      "Greetings!\n"
     ]
    }
   ],
   "source": [
    "spam = input()\n",
    "\n",
    "if spam == 1:\n",
    "    print('Hello')\n",
    "elif spam == 2:\n",
    "    print('Howdy')\n",
    "else:\n",
    "    print('Greetings!')"
   ]
  },
  {
   "cell_type": "markdown",
   "id": "stylish-blame",
   "metadata": {},
   "source": [
    "Question 10\n",
    "\n",
    "ctrl + c"
   ]
  },
  {
   "cell_type": "markdown",
   "id": "prostate-price",
   "metadata": {},
   "source": [
    "Question 11"
   ]
  },
  {
   "cell_type": "code",
   "execution_count": 24,
   "id": "amber-carter",
   "metadata": {},
   "outputs": [
    {
     "name": "stdout",
     "output_type": "stream",
     "text": [
      "1\n",
      "2\n",
      "4\n",
      "5\n"
     ]
    }
   ],
   "source": [
    "a = 0\n",
    "while a < 5:\n",
    "    a +=1\n",
    "    if a == 3:\n",
    "        continue\n",
    "    print(a)\n",
    "    if a == 5:\n",
    "        break"
   ]
  },
  {
   "cell_type": "markdown",
   "id": "elder-identification",
   "metadata": {},
   "source": [
    "Question 12\n",
    "\n",
    "In terms of received result, they are all the same. "
   ]
  },
  {
   "cell_type": "code",
   "execution_count": 25,
   "id": "super-directive",
   "metadata": {},
   "outputs": [
    {
     "data": {
      "text/plain": [
       "True"
      ]
     },
     "execution_count": 25,
     "metadata": {},
     "output_type": "execute_result"
    }
   ],
   "source": [
    "range(10)==range(0,10)\n"
   ]
  },
  {
   "cell_type": "code",
   "execution_count": 26,
   "id": "experimental-thanks",
   "metadata": {},
   "outputs": [
    {
     "data": {
      "text/plain": [
       "True"
      ]
     },
     "execution_count": 26,
     "metadata": {},
     "output_type": "execute_result"
    }
   ],
   "source": [
    "range(10)==range(0,10,1)"
   ]
  },
  {
   "cell_type": "markdown",
   "id": "competitive-sperm",
   "metadata": {},
   "source": [
    "Question 13"
   ]
  },
  {
   "cell_type": "code",
   "execution_count": 28,
   "id": "personal-geneva",
   "metadata": {},
   "outputs": [
    {
     "name": "stdout",
     "output_type": "stream",
     "text": [
      "1\n",
      "2\n",
      "3\n",
      "4\n",
      "5\n",
      "6\n",
      "7\n",
      "8\n",
      "9\n",
      "10\n"
     ]
    }
   ],
   "source": [
    "for i in range(1,11):\n",
    "    print(i)"
   ]
  },
  {
   "cell_type": "code",
   "execution_count": 29,
   "id": "actual-lawyer",
   "metadata": {},
   "outputs": [
    {
     "name": "stdout",
     "output_type": "stream",
     "text": [
      "1\n",
      "2\n",
      "3\n",
      "4\n",
      "5\n",
      "6\n",
      "7\n",
      "8\n",
      "9\n",
      "10\n"
     ]
    }
   ],
   "source": [
    "i =0\n",
    "while i <10:\n",
    "    i = i +1\n",
    "    print(i)"
   ]
  },
  {
   "cell_type": "markdown",
   "id": "copyrighted-calculation",
   "metadata": {},
   "source": [
    "Question 14\n",
    "\n",
    "spam.bacon()"
   ]
  },
  {
   "cell_type": "markdown",
   "id": "combined-dialogue",
   "metadata": {},
   "source": [
    "# Chapter 2 Evaluation\n",
    "\n",
    "In this chapter, I have learned about evaluative expressions and how to create complex functions which was achived though flow control.In this chapter, I found it challanging to understand the differences between = and == as == is used to compare between variable and values, it was not easy to sport the different use of the two identifiers. On the other hand, in several attempts and looking for solutions onine, I was able to understand prioritizing Boolean operators as using different operators requires careful inspection during the process. To sum up, after this chapter I am familier with the concepts of creating \"skip\" and \"execute\" code and apply it in a loop as well as break and continue statements. "
   ]
  },
  {
   "cell_type": "markdown",
   "id": "supposed-colony",
   "metadata": {},
   "source": [
    "# Chapter 3 - Functions"
   ]
  },
  {
   "cell_type": "markdown",
   "id": "refined-privilege",
   "metadata": {},
   "source": [
    "Question 1\n",
    "\n",
    "By using functions, we can avoid wrting duplicated strings and it allows program to be shorter, easier to understand and read, if necessery; correct its errors. "
   ]
  },
  {
   "cell_type": "markdown",
   "id": "dirty-keyboard",
   "metadata": {},
   "source": [
    "Quetion 2\n",
    "\n",
    "if the function is called then it is exceuted."
   ]
  },
  {
   "cell_type": "markdown",
   "id": "convertible-affairs",
   "metadata": {},
   "source": [
    "Question 3\n",
    "\n",
    "def statement\n"
   ]
  },
  {
   "cell_type": "markdown",
   "id": "copyrighted-filter",
   "metadata": {},
   "source": [
    "Question 4\n",
    "\n",
    "Fucntion: it includes def statements and operatiions.\n",
    "Fucntion call: it is the execution of the program which reults in with an end value."
   ]
  },
  {
   "cell_type": "markdown",
   "id": "adjustable-italian",
   "metadata": {},
   "source": [
    "Question 5\n",
    "\n",
    "Global scope number: 1\n",
    "\n",
    "Local scope number: the number of def functions determines it.\n"
   ]
  },
  {
   "cell_type": "markdown",
   "id": "accredited-amount",
   "metadata": {},
   "source": [
    "Question 6\n",
    "\n",
    "Variables of local scope is lost when the fucntion call returns.\n"
   ]
  },
  {
   "cell_type": "code",
   "execution_count": 31,
   "id": "august-think",
   "metadata": {},
   "outputs": [
    {
     "data": {
      "text/plain": [
       "13"
      ]
     },
     "execution_count": 31,
     "metadata": {},
     "output_type": "execute_result"
    }
   ],
   "source": [
    "def sumup(loc_a,loc_b):\n",
    "    return loc_a+loc_b\n",
    "sumup(4,9)"
   ]
  },
  {
   "cell_type": "markdown",
   "id": "saving-notebook",
   "metadata": {},
   "source": [
    "Question 7\n",
    "\n",
    "Retun value: it is the result of global function call, it can be part of an expression."
   ]
  },
  {
   "cell_type": "code",
   "execution_count": 36,
   "id": "senior-roommate",
   "metadata": {},
   "outputs": [
    {
     "data": {
      "text/plain": [
       "20"
      ]
     },
     "execution_count": 36,
     "metadata": {},
     "output_type": "execute_result"
    }
   ],
   "source": [
    "4 + sumup(7,9) #return value is 20."
   ]
  },
  {
   "cell_type": "markdown",
   "id": "unavailable-glasgow",
   "metadata": {},
   "source": [
    "Question 8\n",
    "\n",
    "The return value od a call to that function is None."
   ]
  },
  {
   "cell_type": "code",
   "execution_count": 38,
   "id": "average-prairie",
   "metadata": {
    "scrolled": true
   },
   "outputs": [
    {
     "name": "stdout",
     "output_type": "stream",
     "text": [
      "10\n",
      "None\n"
     ]
    }
   ],
   "source": [
    "def return_none(a,v):\n",
    "    print(a+v)\n",
    "print(return_none(4,6))"
   ]
  },
  {
   "cell_type": "markdown",
   "id": "cosmetic-exclusive",
   "metadata": {},
   "source": [
    "Question 9\n",
    "\n",
    "When claiming a statement, by not defining a local variable name same as global varriable. \n"
   ]
  },
  {
   "cell_type": "code",
   "execution_count": 49,
   "id": "silver-phase",
   "metadata": {},
   "outputs": [
    {
     "data": {
      "text/plain": [
       "13"
      ]
     },
     "execution_count": 49,
     "metadata": {},
     "output_type": "execute_result"
    }
   ],
   "source": [
    "c = 7\n",
    "def sumup(c,n):\n",
    "    return c+n\n",
    "sumup(4,9)"
   ]
  },
  {
   "cell_type": "code",
   "execution_count": 50,
   "id": "included-mistake",
   "metadata": {},
   "outputs": [
    {
     "data": {
      "text/plain": [
       "16"
      ]
     },
     "execution_count": 50,
     "metadata": {},
     "output_type": "execute_result"
    }
   ],
   "source": [
    "def sumup_c(n):\n",
    "    return c+n\n",
    "sumup_c(9)"
   ]
  },
  {
   "cell_type": "markdown",
   "id": "victorian-liver",
   "metadata": {},
   "source": [
    "Question 10\n",
    "\n",
    "Nonetype"
   ]
  },
  {
   "cell_type": "code",
   "execution_count": 51,
   "id": "textile-patient",
   "metadata": {},
   "outputs": [
    {
     "data": {
      "text/plain": [
       "NoneType"
      ]
     },
     "execution_count": 51,
     "metadata": {},
     "output_type": "execute_result"
    }
   ],
   "source": [
    "type(None)\n"
   ]
  },
  {
   "cell_type": "markdown",
   "id": "worth-touch",
   "metadata": {},
   "source": [
    "Question 11\n",
    "\n",
    "All the module from areallyourpetsnamederic is imported through import areallyourpetsnamederic statement.\n"
   ]
  },
  {
   "cell_type": "markdown",
   "id": "strange-beads",
   "metadata": {},
   "source": [
    "Question 12\n",
    "\n",
    "spam.bacon()\n"
   ]
  },
  {
   "cell_type": "markdown",
   "id": "flying-cherry",
   "metadata": {},
   "source": [
    "Question 13\n",
    "\n",
    "Try can be used to prevent program from crashing.\n"
   ]
  },
  {
   "cell_type": "code",
   "execution_count": 54,
   "id": "bronze-dictionary",
   "metadata": {},
   "outputs": [
    {
     "name": "stdout",
     "output_type": "stream",
     "text": [
      "you attempted to devide 8 by zero\n",
      "8.0\n",
      "4.0\n",
      "2.6666666666666665\n",
      "2.0\n",
      "1.6\n",
      "1.3333333333333333\n",
      "1.1428571428571428\n"
     ]
    }
   ],
   "source": [
    "for a in range(8):\n",
    "    try:\n",
    "        print(8/a)\n",
    "    except:\n",
    "        print('you attempted to devide 8 by zero')"
   ]
  },
  {
   "cell_type": "markdown",
   "id": "controlled-catalog",
   "metadata": {},
   "source": [
    "Question 14\n",
    "\n",
    "Until the first exception is encountered the try clause is executed, inside the except clause, it refers to the except clause and detemines how the program responds to that exception."
   ]
  },
  {
   "cell_type": "markdown",
   "id": "danish-caution",
   "metadata": {},
   "source": [
    "# Chapter 3 - Evaluation \n",
    "\n",
    "In this chapter, I learnt about how executions can be replaced by the functions as it replaces exausting program wiritng to an efficient way of code executing. Checking varriable names in local and global directory was one of the challange that I afced in this chapter. Distinct local scopes can use the same  name while reffering different varriables. While global and local varriables can pottentially share the same name, the statement claim should refer to the local varriable. It is ssential to watch out for this point. In this chapter, I understood how the functions can be used to organized the code. Also, try and except statements are useful in the case of program crash as they can be used to determine the cause of the problem. "
   ]
  },
  {
   "cell_type": "markdown",
   "id": "radical-diabetes",
   "metadata": {},
   "source": [
    "# Chapter 4 - Lists "
   ]
  },
  {
   "cell_type": "markdown",
   "id": "funny-international",
   "metadata": {},
   "source": [
    "Question 1\n",
    "\n",
    "[] is an empty list that contains no elemets.\n"
   ]
  },
  {
   "cell_type": "code",
   "execution_count": 2,
   "id": "manufactured-diving",
   "metadata": {},
   "outputs": [
    {
     "data": {
      "text/plain": [
       "0"
      ]
     },
     "execution_count": 2,
     "metadata": {},
     "output_type": "execute_result"
    }
   ],
   "source": [
    "len ([])"
   ]
  },
  {
   "cell_type": "markdown",
   "id": "limited-masters",
   "metadata": {},
   "source": [
    "Question 2 \n"
   ]
  },
  {
   "cell_type": "code",
   "execution_count": 3,
   "id": "challenging-cream",
   "metadata": {},
   "outputs": [
    {
     "data": {
      "text/plain": [
       "[2, 4, 6, 8, 10]"
      ]
     },
     "execution_count": 3,
     "metadata": {},
     "output_type": "execute_result"
    }
   ],
   "source": [
    "spam = [2,4,6,8,10]\n",
    "spam"
   ]
  },
  {
   "cell_type": "code",
   "execution_count": 4,
   "id": "alleged-compilation",
   "metadata": {},
   "outputs": [],
   "source": [
    "spam[4] = 'hello'"
   ]
  },
  {
   "cell_type": "code",
   "execution_count": 5,
   "id": "extraordinary-found",
   "metadata": {},
   "outputs": [
    {
     "data": {
      "text/plain": [
       "[2, 4, 6, 8, 'hello']"
      ]
     },
     "execution_count": 5,
     "metadata": {},
     "output_type": "execute_result"
    }
   ],
   "source": [
    "spam\n"
   ]
  },
  {
   "cell_type": "markdown",
   "id": "lesbian-operator",
   "metadata": {},
   "source": [
    "Question 3"
   ]
  },
  {
   "cell_type": "code",
   "execution_count": 8,
   "id": "latin-heather",
   "metadata": {},
   "outputs": [
    {
     "data": {
      "text/plain": [
       "8"
      ]
     },
     "execution_count": 8,
     "metadata": {},
     "output_type": "execute_result"
    }
   ],
   "source": [
    "spam[int(int('3' * 2) // 11)]"
   ]
  },
  {
   "cell_type": "markdown",
   "id": "sporting-citation",
   "metadata": {},
   "source": [
    "int() is converted 'str' to 'ınt'"
   ]
  },
  {
   "cell_type": "markdown",
   "id": "dedicated-renewal",
   "metadata": {},
   "source": [
    "Question 4"
   ]
  },
  {
   "cell_type": "code",
   "execution_count": 16,
   "id": "played-garden",
   "metadata": {},
   "outputs": [
    {
     "name": "stdout",
     "output_type": "stream",
     "text": [
      "4\n",
      "8\n"
     ]
    }
   ],
   "source": [
    "print(spam[-4])\n",
    "print(spam[-2])\n",
    "    "
   ]
  },
  {
   "cell_type": "markdown",
   "id": "governmental-collectible",
   "metadata": {},
   "source": [
    "Question 5"
   ]
  },
  {
   "cell_type": "code",
   "execution_count": 17,
   "id": "usual-swift",
   "metadata": {},
   "outputs": [
    {
     "data": {
      "text/plain": [
       "[2, 4]"
      ]
     },
     "execution_count": 17,
     "metadata": {},
     "output_type": "execute_result"
    }
   ],
   "source": [
    "spam[:2] "
   ]
  },
  {
   "cell_type": "markdown",
   "id": "rational-homework",
   "metadata": {},
   "source": [
    "Question 6"
   ]
  },
  {
   "cell_type": "code",
   "execution_count": 18,
   "id": "mounted-transcript",
   "metadata": {},
   "outputs": [
    {
     "data": {
      "text/plain": [
       "[3.14, 'cat', 11, 'cat', True]"
      ]
     },
     "execution_count": 18,
     "metadata": {},
     "output_type": "execute_result"
    }
   ],
   "source": [
    "bacon = [3.14, 'cat', 11, 'cat', True]\n",
    "bacon"
   ]
  },
  {
   "cell_type": "code",
   "execution_count": 19,
   "id": "heated-benchmark",
   "metadata": {},
   "outputs": [
    {
     "data": {
      "text/plain": [
       "1"
      ]
     },
     "execution_count": 19,
     "metadata": {},
     "output_type": "execute_result"
    }
   ],
   "source": [
    "bacon.index('cat')"
   ]
  },
  {
   "cell_type": "markdown",
   "id": "boxed-bowling",
   "metadata": {},
   "source": [
    "Question 7"
   ]
  },
  {
   "cell_type": "code",
   "execution_count": 24,
   "id": "human-encoding",
   "metadata": {},
   "outputs": [],
   "source": [
    "bacon.append(99)\n"
   ]
  },
  {
   "cell_type": "code",
   "execution_count": 26,
   "id": "orange-delicious",
   "metadata": {},
   "outputs": [
    {
     "data": {
      "text/plain": [
       "[3.14, 'cat', 11, 'cat', True, 99, 65, 99]"
      ]
     },
     "execution_count": 26,
     "metadata": {},
     "output_type": "execute_result"
    }
   ],
   "source": [
    "bacon"
   ]
  },
  {
   "cell_type": "markdown",
   "id": "impossible-strengthening",
   "metadata": {},
   "source": [
    "Question 8"
   ]
  },
  {
   "cell_type": "code",
   "execution_count": 28,
   "id": "angry-workstation",
   "metadata": {},
   "outputs": [],
   "source": [
    "bacon.remove('cat')"
   ]
  },
  {
   "cell_type": "code",
   "execution_count": 29,
   "id": "stuck-motion",
   "metadata": {},
   "outputs": [
    {
     "data": {
      "text/plain": [
       "[3.14, 11, True, 99, 65, 99]"
      ]
     },
     "execution_count": 29,
     "metadata": {},
     "output_type": "execute_result"
    }
   ],
   "source": [
    "bacon"
   ]
  },
  {
   "cell_type": "markdown",
   "id": "cooked-operation",
   "metadata": {},
   "source": [
    "Question 9"
   ]
  },
  {
   "cell_type": "markdown",
   "id": "amazing-complaint",
   "metadata": {},
   "source": [
    "List concentartion operator list: +\n",
    "List replication operator list: *"
   ]
  },
  {
   "cell_type": "markdown",
   "id": "conscious-exhibition",
   "metadata": {},
   "source": [
    "Question 10\n",
    "\n",
    "insert can be used in any desired place in the code: insert()\n",
    "\n",
    "append can be only used in the end of a list: append()"
   ]
  },
  {
   "cell_type": "markdown",
   "id": "leading-harris",
   "metadata": {},
   "source": [
    "Question 11 \n",
    "\n",
    "remove() and del statements can be used  remove values from a list\n"
   ]
  },
  {
   "cell_type": "markdown",
   "id": "polish-latin",
   "metadata": {},
   "source": [
    "Question 12\n",
    "\n",
    "Having a determined len() is the common feature pf strıng and list, in this case a desired element cna be placed in a loop."
   ]
  },
  {
   "cell_type": "code",
   "execution_count": 30,
   "id": "chronic-parallel",
   "metadata": {},
   "outputs": [
    {
     "name": "stdout",
     "output_type": "stream",
     "text": [
      "a\n",
      "h\n",
      "m\n",
      "e\n",
      "t\n"
     ]
    }
   ],
   "source": [
    "for i in 'ahmet':\n",
    "    print(i)"
   ]
  },
  {
   "cell_type": "code",
   "execution_count": 35,
   "id": "grave-drain",
   "metadata": {},
   "outputs": [
    {
     "name": "stdout",
     "output_type": "stream",
     "text": [
      "a\n",
      "b\n",
      "c\n"
     ]
    }
   ],
   "source": [
    "for i in ['a','b','c']:\n",
    "    print(i)"
   ]
  },
  {
   "cell_type": "markdown",
   "id": "public-screening",
   "metadata": {},
   "source": [
    "Question 13\n",
    "\n",
    "By changing the values, the lists can be edited, on the other hand, the values of tuples cannot be edited."
   ]
  },
  {
   "cell_type": "markdown",
   "id": "another-female",
   "metadata": {},
   "source": [
    "Question 14"
   ]
  },
  {
   "cell_type": "code",
   "execution_count": 1,
   "id": "studied-malawi",
   "metadata": {},
   "outputs": [
    {
     "data": {
      "text/plain": [
       "(42,)"
      ]
     },
     "execution_count": 1,
     "metadata": {},
     "output_type": "execute_result"
    }
   ],
   "source": [
    "(42,)"
   ]
  },
  {
   "cell_type": "markdown",
   "id": "magnetic-livestock",
   "metadata": {},
   "source": [
    "Question 15"
   ]
  },
  {
   "cell_type": "code",
   "execution_count": 11,
   "id": "determined-ready",
   "metadata": {},
   "outputs": [
    {
     "name": "stdout",
     "output_type": "stream",
     "text": [
      "List elements :  [565, 'ask', 'yellow', 'zuck']\n"
     ]
    }
   ],
   "source": [
    "aTuple = (565, 'ask', 'yellow', 'zuck');\n",
    "aList = list(aTuple)\n",
    "print (\"List elements : \", aList)"
   ]
  },
  {
   "cell_type": "markdown",
   "id": "honey-robin",
   "metadata": {},
   "source": [
    "Question 16\n",
    "\n",
    "They contain the list value refferences"
   ]
  },
  {
   "cell_type": "markdown",
   "id": "medium-palace",
   "metadata": {},
   "source": [
    "Question 17"
   ]
  },
  {
   "cell_type": "code",
   "execution_count": 12,
   "id": "civilian-processing",
   "metadata": {},
   "outputs": [],
   "source": [
    "import copy"
   ]
  },
  {
   "cell_type": "code",
   "execution_count": 14,
   "id": "accomplished-grenada",
   "metadata": {},
   "outputs": [
    {
     "name": "stdout",
     "output_type": "stream",
     "text": [
      "[4, 6, 7, 9] [4, 6, 7, 9] [4, 6, 7, 9]\n"
     ]
    }
   ],
   "source": [
    "a = [4,6,7,9]\n",
    "b = a\n",
    "b_c = copy.copy(a)\n",
    "print(a,b,b_c)"
   ]
  },
  {
   "cell_type": "code",
   "execution_count": 16,
   "id": "opposed-maria",
   "metadata": {},
   "outputs": [
    {
     "name": "stdout",
     "output_type": "stream",
     "text": [
      "True False\n"
     ]
    }
   ],
   "source": [
    "print(b is a,b_c is a)"
   ]
  },
  {
   "cell_type": "code",
   "execution_count": 15,
   "id": "unknown-quantity",
   "metadata": {},
   "outputs": [
    {
     "name": "stdout",
     "output_type": "stream",
     "text": [
      "True True\n"
     ]
    }
   ],
   "source": [
    "print(b == a, b_c == a)"
   ]
  },
  {
   "cell_type": "code",
   "execution_count": 17,
   "id": "clean-victory",
   "metadata": {},
   "outputs": [
    {
     "name": "stdout",
     "output_type": "stream",
     "text": [
      "[4, 6, 7, 9, 5] [4, 6, 7, 9, 5] [4, 6, 7, 9]\n",
      "True False\n"
     ]
    }
   ],
   "source": [
    "a.append(5)\n",
    "print(a,b,b_c)\n",
    "print(a == b, a== b_c)"
   ]
  },
  {
   "cell_type": "code",
   "execution_count": 20,
   "id": "vulnerable-defensive",
   "metadata": {},
   "outputs": [
    {
     "name": "stdout",
     "output_type": "stream",
     "text": [
      "['a', ['b', 'c']] ['a', ['b', 'c']] ['a', ['b', 'c']]\n",
      "True True\n",
      "False False\n"
     ]
    }
   ],
   "source": [
    "c = ['a',['b','c']]\n",
    "e = copy.copy(c)\n",
    "f = copy.deepcopy(c)\n",
    "print(c,e,f)\n",
    "print(c == e, c==f)\n",
    "print(c is e, c is f)"
   ]
  },
  {
   "cell_type": "code",
   "execution_count": 19,
   "id": "terminal-principle",
   "metadata": {},
   "outputs": [
    {
     "name": "stdout",
     "output_type": "stream",
     "text": [
      "['a', ['b', 1]] ['a', ['b', 1]] ['a', ['b', 'c']]\n",
      "True False\n"
     ]
    }
   ],
   "source": [
    "c[1][1] = 1\n",
    "print(c,e,f)\n",
    "print(c == e, c==f)"
   ]
  },
  {
   "cell_type": "markdown",
   "id": "minimal-formation",
   "metadata": {},
   "source": [
    "# Chapter 4 - Evaluation"
   ]
  },
  {
   "cell_type": "markdown",
   "id": "american-excitement",
   "metadata": {},
   "source": [
    "In this chapter I learnt about how is it possible to shorten the code by using list value function. The operators (in and not) can be used to find a file in the list value. Mutable data type: list value ; immutable data type: string. Tuple Data type: writtin with (-). This chapter wa sinteresting as it gives and idea about data storage and how to retrieve data. While index always start from 0 value which is also the first element. While using loop function, variables should stay in index range. This chapter was really challanging to understand and move forward as it required mathematical knowledge.  "
   ]
  },
  {
   "cell_type": "markdown",
   "id": "sweet-welsh",
   "metadata": {},
   "source": [
    "# Chapter 5 - Dictionaries and Structuring Data"
   ]
  },
  {
   "cell_type": "markdown",
   "id": "common-equation",
   "metadata": {},
   "source": [
    "Dictionary data type which could be used to organize items."
   ]
  },
  {
   "cell_type": "markdown",
   "id": "therapeutic-framework",
   "metadata": {},
   "source": [
    "Question 1"
   ]
  },
  {
   "cell_type": "code",
   "execution_count": 28,
   "id": "rolled-athletics",
   "metadata": {},
   "outputs": [
    {
     "data": {
      "text/plain": [
       "{}"
      ]
     },
     "execution_count": 28,
     "metadata": {},
     "output_type": "execute_result"
    }
   ],
   "source": [
    "{}"
   ]
  },
  {
   "cell_type": "markdown",
   "id": "joint-isaac",
   "metadata": {},
   "source": [
    "Question 2"
   ]
  },
  {
   "cell_type": "code",
   "execution_count": 29,
   "id": "signed-forge",
   "metadata": {},
   "outputs": [
    {
     "data": {
      "text/plain": [
       "{'foo': 42}"
      ]
     },
     "execution_count": 29,
     "metadata": {},
     "output_type": "execute_result"
    }
   ],
   "source": [
    "dict({'foo':42})"
   ]
  },
  {
   "cell_type": "markdown",
   "id": "welcome-montana",
   "metadata": {},
   "source": [
    "Question 3"
   ]
  },
  {
   "cell_type": "markdown",
   "id": "headed-suggestion",
   "metadata": {},
   "source": [
    "While dicitionary does not have a specific order, the list has an order."
   ]
  },
  {
   "cell_type": "markdown",
   "id": "collective-prompt",
   "metadata": {},
   "source": [
    "Question 4"
   ]
  },
  {
   "cell_type": "code",
   "execution_count": 30,
   "id": "improving-affair",
   "metadata": {},
   "outputs": [
    {
     "data": {
      "text/plain": [
       "{'bar': 100}"
      ]
     },
     "execution_count": 30,
     "metadata": {},
     "output_type": "execute_result"
    }
   ],
   "source": [
    "spam={'bar': 100}\n",
    "spam"
   ]
  },
  {
   "cell_type": "code",
   "execution_count": 32,
   "id": "printable-saint",
   "metadata": {},
   "outputs": [
    {
     "ename": "KeyError",
     "evalue": "'foo'",
     "output_type": "error",
     "traceback": [
      "\u001b[1;31m---------------------------------------------------------------------------\u001b[0m",
      "\u001b[1;31mKeyError\u001b[0m                                  Traceback (most recent call last)",
      "\u001b[1;32m<ipython-input-32-88baeab65d6b>\u001b[0m in \u001b[0;36m<module>\u001b[1;34m\u001b[0m\n\u001b[1;32m----> 1\u001b[1;33m \u001b[0mspam\u001b[0m\u001b[1;33m[\u001b[0m\u001b[1;34m'foo'\u001b[0m\u001b[1;33m]\u001b[0m \u001b[1;31m#we retrieve an error.\u001b[0m\u001b[1;33m\u001b[0m\u001b[1;33m\u001b[0m\u001b[0m\n\u001b[0m",
      "\u001b[1;31mKeyError\u001b[0m: 'foo'"
     ]
    }
   ],
   "source": [
    "spam['foo'] #we retrieve an error."
   ]
  },
  {
   "cell_type": "markdown",
   "id": "impossible-celebrity",
   "metadata": {},
   "source": [
    "Question 5"
   ]
  },
  {
   "cell_type": "code",
   "execution_count": 33,
   "id": "peripheral-ratio",
   "metadata": {},
   "outputs": [],
   "source": [
    "spam={'cat':2,'DD':444}"
   ]
  },
  {
   "cell_type": "code",
   "execution_count": 34,
   "id": "advance-diagnosis",
   "metadata": {},
   "outputs": [
    {
     "data": {
      "text/plain": [
       "True"
      ]
     },
     "execution_count": 34,
     "metadata": {},
     "output_type": "execute_result"
    }
   ],
   "source": [
    "    'cat' in spam"
   ]
  },
  {
   "cell_type": "code",
   "execution_count": 35,
   "id": "broke-custom",
   "metadata": {},
   "outputs": [
    {
     "data": {
      "text/plain": [
       "True"
      ]
     },
     "execution_count": 35,
     "metadata": {},
     "output_type": "execute_result"
    }
   ],
   "source": [
    "'cat' in spam.keys()"
   ]
  },
  {
   "cell_type": "markdown",
   "id": "occupational-copying",
   "metadata": {},
   "source": [
    "Question 6"
   ]
  },
  {
   "cell_type": "code",
   "execution_count": 36,
   "id": "charged-adolescent",
   "metadata": {},
   "outputs": [
    {
     "data": {
      "text/plain": [
       "False"
      ]
     },
     "execution_count": 36,
     "metadata": {},
     "output_type": "execute_result"
    }
   ],
   "source": [
    "'cat' in spam.values()"
   ]
  },
  {
   "cell_type": "markdown",
   "id": "blessed-addiction",
   "metadata": {},
   "source": [
    "Question 7"
   ]
  },
  {
   "cell_type": "code",
   "execution_count": 37,
   "id": "equal-surname",
   "metadata": {},
   "outputs": [
    {
     "data": {
      "text/plain": [
       "'black'"
      ]
     },
     "execution_count": 37,
     "metadata": {},
     "output_type": "execute_result"
    }
   ],
   "source": [
    "spam.setdefault('color', 'black')"
   ]
  },
  {
   "cell_type": "markdown",
   "id": "split-electron",
   "metadata": {},
   "source": [
    "Question 8"
   ]
  },
  {
   "cell_type": "markdown",
   "id": "tropical-thailand",
   "metadata": {},
   "source": [
    "pprint.pprint() function can be used.\n"
   ]
  },
  {
   "cell_type": "markdown",
   "id": "classified-council",
   "metadata": {},
   "source": [
    "# Chapter 5 Evaluation "
   ]
  },
  {
   "cell_type": "markdown",
   "id": "occupied-ranch",
   "metadata": {},
   "source": [
    "In this chapter I learnt about ways of using dictionary data while programming and it is very sueful when it comes to mapping out the items. Dictionary { - } can be used as a collection of different data types excluding integers. As they are not in a specific order, any desired value can be assigned to keys. Pretty printing > pprint() and pformat()functions allow displaying the information in an ordered manner. The chapter was easier to understand compared to chapter 5. dict.get()and dict[] functions can be used to assign value to desired key. The main difference between two is, dict.get() allows to provide a default value in the case of key is missing."
   ]
  },
  {
   "cell_type": "markdown",
   "id": "affected-cache",
   "metadata": {},
   "source": [
    "# Chapter 6 - Manipulating Strings"
   ]
  },
  {
   "cell_type": "markdown",
   "id": "adaptive-robin",
   "metadata": {},
   "source": [
    "Question 1\n",
    "\n",
    "Escape characters includes charcters that are difficult to include as an imnput to the strings."
   ]
  },
  {
   "cell_type": "markdown",
   "id": "authorized-romantic",
   "metadata": {},
   "source": [
    "Question 2 \n",
    "\n",
    "\\n : new line\n",
    "\n",
    "\\t : new tab"
   ]
  },
  {
   "cell_type": "code",
   "execution_count": 1,
   "id": "swedish-giant",
   "metadata": {},
   "outputs": [
    {
     "name": "stdout",
     "output_type": "stream",
     "text": [
      "4 \n",
      " 6\n"
     ]
    }
   ],
   "source": [
    "print(4,'\\n',6)"
   ]
  },
  {
   "cell_type": "code",
   "execution_count": 2,
   "id": "ranging-metallic",
   "metadata": {},
   "outputs": [
    {
     "name": "stdout",
     "output_type": "stream",
     "text": [
      "4 \t 6\n"
     ]
    }
   ],
   "source": [
    "print(4,'\\t',6)"
   ]
  },
  {
   "cell_type": "markdown",
   "id": "concerned-islam",
   "metadata": {},
   "source": [
    "Question 3"
   ]
  },
  {
   "cell_type": "code",
   "execution_count": 4,
   "id": "absent-cooling",
   "metadata": {},
   "outputs": [
    {
     "name": "stdout",
     "output_type": "stream",
     "text": [
      "z\n",
      "d\n"
     ]
    }
   ],
   "source": [
    "print('z\\nd')"
   ]
  },
  {
   "cell_type": "code",
   "execution_count": 5,
   "id": "affected-regression",
   "metadata": {},
   "outputs": [
    {
     "name": "stdout",
     "output_type": "stream",
     "text": [
      "z\\nd\n"
     ]
    }
   ],
   "source": [
    "print('z\\\\nd')"
   ]
  },
  {
   "cell_type": "markdown",
   "id": "combined-nelson",
   "metadata": {},
   "source": [
    "Question 4"
   ]
  },
  {
   "cell_type": "markdown",
   "id": "sixth-designer",
   "metadata": {},
   "source": [
    "It is a valid statement because Howl's already include a single quote of ' and douvble quotes that are used to mark the beginning and ending are used."
   ]
  },
  {
   "cell_type": "markdown",
   "id": "dated-calculation",
   "metadata": {},
   "source": [
    "Question 5"
   ]
  },
  {
   "cell_type": "markdown",
   "id": "typical-hanging",
   "metadata": {},
   "source": [
    "Excluding the escape character \\n , multiline strings enables to use new lines strings. "
   ]
  },
  {
   "cell_type": "markdown",
   "id": "ignored-viking",
   "metadata": {},
   "source": [
    "Question 6"
   ]
  },
  {
   "cell_type": "code",
   "execution_count": 7,
   "id": "false-roberts",
   "metadata": {},
   "outputs": [
    {
     "data": {
      "text/plain": [
       "'e'"
      ]
     },
     "execution_count": 7,
     "metadata": {},
     "output_type": "execute_result"
    }
   ],
   "source": [
    "'Hello, world!'[1]"
   ]
  },
  {
   "cell_type": "code",
   "execution_count": 8,
   "id": "limited-republican",
   "metadata": {},
   "outputs": [
    {
     "data": {
      "text/plain": [
       "'Hello'"
      ]
     },
     "execution_count": 8,
     "metadata": {},
     "output_type": "execute_result"
    }
   ],
   "source": [
    "'Hello, world!'[0:5]"
   ]
  },
  {
   "cell_type": "code",
   "execution_count": 9,
   "id": "blond-apache",
   "metadata": {},
   "outputs": [
    {
     "data": {
      "text/plain": [
       "'Hello'"
      ]
     },
     "execution_count": 9,
     "metadata": {},
     "output_type": "execute_result"
    }
   ],
   "source": [
    "'Hello, world!'[:5]"
   ]
  },
  {
   "cell_type": "code",
   "execution_count": 10,
   "id": "fossil-india",
   "metadata": {},
   "outputs": [
    {
     "data": {
      "text/plain": [
       "'lo, world!'"
      ]
     },
     "execution_count": 10,
     "metadata": {},
     "output_type": "execute_result"
    }
   ],
   "source": [
    "'Hello, world!'[3:]"
   ]
  },
  {
   "cell_type": "markdown",
   "id": "anticipated-marker",
   "metadata": {},
   "source": [
    "Question 7"
   ]
  },
  {
   "cell_type": "code",
   "execution_count": 11,
   "id": "expensive-bleeding",
   "metadata": {},
   "outputs": [
    {
     "data": {
      "text/plain": [
       "'HELLO'"
      ]
     },
     "execution_count": 11,
     "metadata": {},
     "output_type": "execute_result"
    }
   ],
   "source": [
    "'Hello'.upper()"
   ]
  },
  {
   "cell_type": "code",
   "execution_count": 12,
   "id": "lucky-strengthening",
   "metadata": {},
   "outputs": [
    {
     "data": {
      "text/plain": [
       "True"
      ]
     },
     "execution_count": 12,
     "metadata": {},
     "output_type": "execute_result"
    }
   ],
   "source": [
    "'Hello'.upper().isupper()"
   ]
  },
  {
   "cell_type": "code",
   "execution_count": 13,
   "id": "stylish-perth",
   "metadata": {},
   "outputs": [
    {
     "data": {
      "text/plain": [
       "'hello'"
      ]
     },
     "execution_count": 13,
     "metadata": {},
     "output_type": "execute_result"
    }
   ],
   "source": [
    "'Hello'.upper().lower()"
   ]
  },
  {
   "cell_type": "code",
   "execution_count": 14,
   "id": "settled-scale",
   "metadata": {},
   "outputs": [
    {
     "data": {
      "text/plain": [
       "False"
      ]
     },
     "execution_count": 14,
     "metadata": {},
     "output_type": "execute_result"
    }
   ],
   "source": [
    "'Hello'.upper().islower()"
   ]
  },
  {
   "cell_type": "markdown",
   "id": "material-enforcement",
   "metadata": {},
   "source": [
    "Question 8"
   ]
  },
  {
   "cell_type": "code",
   "execution_count": 15,
   "id": "exclusive-victoria",
   "metadata": {},
   "outputs": [
    {
     "data": {
      "text/plain": [
       "['Remember,', 'remember,', 'the', 'fifth', 'of', 'November.']"
      ]
     },
     "execution_count": 15,
     "metadata": {},
     "output_type": "execute_result"
    }
   ],
   "source": [
    "'Remember, remember, the fifth of November.'.split()"
   ]
  },
  {
   "cell_type": "code",
   "execution_count": 16,
   "id": "invisible-broadway",
   "metadata": {},
   "outputs": [
    {
     "data": {
      "text/plain": [
       "['Remember', ' remember', ' the fifth of November.']"
      ]
     },
     "execution_count": 16,
     "metadata": {},
     "output_type": "execute_result"
    }
   ],
   "source": [
    "'Remember, remember, the fifth of November.'.split(',')"
   ]
  },
  {
   "cell_type": "code",
   "execution_count": 17,
   "id": "material-church",
   "metadata": {},
   "outputs": [
    {
     "data": {
      "text/plain": [
       "'There-can-be-only-one.'"
      ]
     },
     "execution_count": 17,
     "metadata": {},
     "output_type": "execute_result"
    }
   ],
   "source": [
    "'-'.join('There can be only one.'.split())"
   ]
  },
  {
   "cell_type": "markdown",
   "id": "digital-baseline",
   "metadata": {},
   "source": [
    "Question 9\n",
    "\n",
    "rjust(), ljust(), and center() strings can be used."
   ]
  },
  {
   "cell_type": "code",
   "execution_count": 19,
   "id": "dress-incentive",
   "metadata": {},
   "outputs": [
    {
     "data": {
      "text/plain": [
       "'                                       sdhskjhdkjs'"
      ]
     },
     "execution_count": 19,
     "metadata": {},
     "output_type": "execute_result"
    }
   ],
   "source": [
    "'sdhskjhdkjs'.rjust(50)"
   ]
  },
  {
   "cell_type": "code",
   "execution_count": 21,
   "id": "brazilian-ordinance",
   "metadata": {},
   "outputs": [
    {
     "data": {
      "text/plain": [
       "'sdhskjhdkjs333333333333333333333333333333333333333'"
      ]
     },
     "execution_count": 21,
     "metadata": {},
     "output_type": "execute_result"
    }
   ],
   "source": [
    "'sdhskjhdkjs'.ljust(50,'3')"
   ]
  },
  {
   "cell_type": "markdown",
   "id": "metropolitan-drama",
   "metadata": {},
   "source": [
    "Question 10"
   ]
  },
  {
   "cell_type": "markdown",
   "id": "exact-drama",
   "metadata": {},
   "source": [
    " lstrip() and rstrip()  methods can be used."
   ]
  },
  {
   "cell_type": "code",
   "execution_count": 23,
   "id": "selected-display",
   "metadata": {},
   "outputs": [
    {
     "data": {
      "text/plain": [
       "'hdekjdfsh    '"
      ]
     },
     "execution_count": 23,
     "metadata": {},
     "output_type": "execute_result"
    }
   ],
   "source": [
    "'      hdekjdfsh    '.lstrip()"
   ]
  },
  {
   "cell_type": "code",
   "execution_count": 24,
   "id": "designing-registration",
   "metadata": {},
   "outputs": [
    {
     "data": {
      "text/plain": [
       "'      jdshvkdflkz    '"
      ]
     },
     "execution_count": 24,
     "metadata": {},
     "output_type": "execute_result"
    }
   ],
   "source": [
    "'      jdshvkdflkz    11111'.rstrip('1')"
   ]
  },
  {
   "cell_type": "markdown",
   "id": "different-choir",
   "metadata": {},
   "source": [
    "Practice: Translating English words to Pig Latin"
   ]
  },
  {
   "cell_type": "code",
   "execution_count": 52,
   "id": "dominican-aggregate",
   "metadata": {},
   "outputs": [],
   "source": [
    "def piglatin():\n",
    "    print (\"Playing Pig latin, please enter the word: \")\n",
    "    consants=['b', 'c', 'd', 'f', 'g', 'h', 'j', 'k', 'l', 'm', 'n', 'p', 'q', 'r', 's', 't', 'v', 'w', 'x', 'y', 'z']\n",
    "    x=raw_input()\n",
    "    print (x[0])\n",
    "    if x[0] in consants:\n",
    "        print (x[1::]+x[0]+\"ay\")\n",
    "    else:\n",
    "        print (x+\"way\")\n",
    "\n"
   ]
  },
  {
   "cell_type": "code",
   "execution_count": 53,
   "id": "thirty-military",
   "metadata": {},
   "outputs": [
    {
     "name": "stdout",
     "output_type": "stream",
     "text": [
      "Playing Pig latin, please enter the word: \n"
     ]
    },
    {
     "ename": "NameError",
     "evalue": "name 'raw_input' is not defined",
     "output_type": "error",
     "traceback": [
      "\u001b[1;31m---------------------------------------------------------------------------\u001b[0m",
      "\u001b[1;31mNameError\u001b[0m                                 Traceback (most recent call last)",
      "\u001b[1;32m<ipython-input-53-43bbf28d3c4a>\u001b[0m in \u001b[0;36m<module>\u001b[1;34m\u001b[0m\n\u001b[1;32m----> 1\u001b[1;33m \u001b[0mpiglatin\u001b[0m\u001b[1;33m(\u001b[0m\u001b[1;33m)\u001b[0m\u001b[1;33m\u001b[0m\u001b[1;33m\u001b[0m\u001b[0m\n\u001b[0m",
      "\u001b[1;32m<ipython-input-52-78ec11d43f31>\u001b[0m in \u001b[0;36mpiglatin\u001b[1;34m()\u001b[0m\n\u001b[0;32m      2\u001b[0m     \u001b[0mprint\u001b[0m \u001b[1;33m(\u001b[0m\u001b[1;34m\"Playing Pig latin, please enter the word: \"\u001b[0m\u001b[1;33m)\u001b[0m\u001b[1;33m\u001b[0m\u001b[1;33m\u001b[0m\u001b[0m\n\u001b[0;32m      3\u001b[0m     \u001b[0mconsants\u001b[0m\u001b[1;33m=\u001b[0m\u001b[1;33m[\u001b[0m\u001b[1;34m'b'\u001b[0m\u001b[1;33m,\u001b[0m \u001b[1;34m'c'\u001b[0m\u001b[1;33m,\u001b[0m \u001b[1;34m'd'\u001b[0m\u001b[1;33m,\u001b[0m \u001b[1;34m'f'\u001b[0m\u001b[1;33m,\u001b[0m \u001b[1;34m'g'\u001b[0m\u001b[1;33m,\u001b[0m \u001b[1;34m'h'\u001b[0m\u001b[1;33m,\u001b[0m \u001b[1;34m'j'\u001b[0m\u001b[1;33m,\u001b[0m \u001b[1;34m'k'\u001b[0m\u001b[1;33m,\u001b[0m \u001b[1;34m'l'\u001b[0m\u001b[1;33m,\u001b[0m \u001b[1;34m'm'\u001b[0m\u001b[1;33m,\u001b[0m \u001b[1;34m'n'\u001b[0m\u001b[1;33m,\u001b[0m \u001b[1;34m'p'\u001b[0m\u001b[1;33m,\u001b[0m \u001b[1;34m'q'\u001b[0m\u001b[1;33m,\u001b[0m \u001b[1;34m'r'\u001b[0m\u001b[1;33m,\u001b[0m \u001b[1;34m's'\u001b[0m\u001b[1;33m,\u001b[0m \u001b[1;34m't'\u001b[0m\u001b[1;33m,\u001b[0m \u001b[1;34m'v'\u001b[0m\u001b[1;33m,\u001b[0m \u001b[1;34m'w'\u001b[0m\u001b[1;33m,\u001b[0m \u001b[1;34m'x'\u001b[0m\u001b[1;33m,\u001b[0m \u001b[1;34m'y'\u001b[0m\u001b[1;33m,\u001b[0m \u001b[1;34m'z'\u001b[0m\u001b[1;33m]\u001b[0m\u001b[1;33m\u001b[0m\u001b[1;33m\u001b[0m\u001b[0m\n\u001b[1;32m----> 4\u001b[1;33m     \u001b[0mx\u001b[0m\u001b[1;33m=\u001b[0m\u001b[0mraw_input\u001b[0m\u001b[1;33m(\u001b[0m\u001b[1;33m)\u001b[0m\u001b[1;33m\u001b[0m\u001b[1;33m\u001b[0m\u001b[0m\n\u001b[0m\u001b[0;32m      5\u001b[0m     \u001b[0mprint\u001b[0m \u001b[1;33m(\u001b[0m\u001b[0mx\u001b[0m\u001b[1;33m[\u001b[0m\u001b[1;36m0\u001b[0m\u001b[1;33m]\u001b[0m\u001b[1;33m)\u001b[0m\u001b[1;33m\u001b[0m\u001b[1;33m\u001b[0m\u001b[0m\n\u001b[0;32m      6\u001b[0m     \u001b[1;32mif\u001b[0m \u001b[0mx\u001b[0m\u001b[1;33m[\u001b[0m\u001b[1;36m0\u001b[0m\u001b[1;33m]\u001b[0m \u001b[1;32min\u001b[0m \u001b[0mconsants\u001b[0m\u001b[1;33m:\u001b[0m\u001b[1;33m\u001b[0m\u001b[1;33m\u001b[0m\u001b[0m\n",
      "\u001b[1;31mNameError\u001b[0m: name 'raw_input' is not defined"
     ]
    }
   ],
   "source": [
    "piglatin()"
   ]
  },
  {
   "cell_type": "markdown",
   "id": "after-preparation",
   "metadata": {},
   "source": [
    "I could not solve the errors that I received, however this version is the closest I go to the result."
   ]
  },
  {
   "cell_type": "markdown",
   "id": "nervous-whole",
   "metadata": {},
   "source": [
    "# Chapter 6 - Evaluation"
   ]
  },
  {
   "cell_type": "markdown",
   "id": "decreased-encyclopedia",
   "metadata": {},
   "source": [
    "This chapter generally looked at the ways of text manuplation. For me, it was especially valuable to learn about how to retrieve partial strings though string values as well as adding and removing spaces or changing the letters in size. Escape letters are used for characters which cannot be placed in strings. To be able to practice these methods, I tried to create a piglatin translator, however I could not manage to made it work.However, these ysfule skills are cqan be used to write codes faster. I general, I am happy with the progress that I made."
   ]
  },
  {
   "cell_type": "markdown",
   "id": "disciplinary-practice",
   "metadata": {},
   "source": [
    "# Chapter 7 - Pattern Matching with Regular Expressions"
   ]
  },
  {
   "cell_type": "markdown",
   "id": "classical-typing",
   "metadata": {},
   "source": [
    "Question 1\n",
    "\n",
    "re.compile() function "
   ]
  },
  {
   "cell_type": "markdown",
   "id": "interstate-special",
   "metadata": {},
   "source": [
    "Question 2\n",
    "\n",
    "In order to backslashes not to be escaped, raw strings can be implemented in the code."
   ]
  },
  {
   "cell_type": "markdown",
   "id": "elementary-lover",
   "metadata": {},
   "source": [
    "Question 3\n",
    "\n",
    "Match objects return when search() method is used."
   ]
  },
  {
   "cell_type": "markdown",
   "id": "detected-transportation",
   "metadata": {},
   "source": [
    "Question 4\n",
    "\n",
    "By using group () function"
   ]
  },
  {
   "cell_type": "markdown",
   "id": "apparent-fiber",
   "metadata": {},
   "source": [
    "Question 5\n",
    "\n",
    "Entire match is covered by group 0, first group of parantheses covered by group 1 and second group of parantheses covered by group 2."
   ]
  },
  {
   "cell_type": "markdown",
   "id": "manual-mentor",
   "metadata": {},
   "source": [
    "Question 6\n",
    "\n",
    "regex can be specified by using \\., \\(, \\). to match actual parentheses and period characters.\n"
   ]
  },
  {
   "cell_type": "markdown",
   "id": "tight-wisconsin",
   "metadata": {},
   "source": [
    "Question 7\n",
    "\n",
    "Regex with no group results as a list of string.\n",
    "Regex with a group results as a tuples of string."
   ]
  },
  {
   "cell_type": "markdown",
   "id": "organized-cornell",
   "metadata": {},
   "source": [
    "Question 8\n",
    "\n",
    "| character: defines either , or matching of two different groups."
   ]
  },
  {
   "cell_type": "markdown",
   "id": "trying-bookmark",
   "metadata": {},
   "source": [
    "Question 9\n",
    "\n",
    "? character: “match zero or one of the preceding group” \n"
   ]
  },
  {
   "cell_type": "markdown",
   "id": "bridal-worry",
   "metadata": {},
   "source": [
    "Question 10\n",
    "\n",
    "__ + : 1 or more matches\n",
    "\n",
    "__ * : 0 or more matches\n"
   ]
  },
  {
   "cell_type": "markdown",
   "id": "found-western",
   "metadata": {},
   "source": [
    "Practice \n",
    "\n",
    "To practice some of the mentioned methods, I tried to write a code that can verify a phone number if it is American. However, the code gave a syntax error that I could not verify."
   ]
  },
  {
   "cell_type": "code",
   "execution_count": 73,
   "id": "rotary-graduation",
   "metadata": {},
   "outputs": [
    {
     "ename": "SyntaxError",
     "evalue": "invalid syntax (<ipython-input-73-b8a327b56342>, line 13)",
     "output_type": "error",
     "traceback": [
      "\u001b[1;36m  File \u001b[1;32m\"<ipython-input-73-b8a327b56342>\"\u001b[1;36m, line \u001b[1;32m13\u001b[0m\n\u001b[1;33m    if mpt text[i].isdecimal():\u001b[0m\n\u001b[1;37m           ^\u001b[0m\n\u001b[1;31mSyntaxError\u001b[0m\u001b[1;31m:\u001b[0m invalid syntax\n"
     ]
    }
   ],
   "source": [
    "def isPhoneNumber(text):\n",
    "    if len(text) !=12:\n",
    "        return False\n",
    "    \n",
    "    for i in Range(0,3):\n",
    "        if not text[i].isdecimal():\n",
    "            return False\n",
    "        \n",
    "    if text[3] !='-':\n",
    "        return False\n",
    "    \n",
    "    for i in range (4, 7):\n",
    "        if mpt text[i].isdecimal():\n",
    "            return False\n",
    "        \n",
    "    if text[7] !='-':\n",
    "        return False\n",
    "    \n",
    "    for i in range(8, 12):\n",
    "        if not text[i].isdecimal():\n",
    "            return False \n",
    "        \n",
    "    return True"
   ]
  },
  {
   "cell_type": "markdown",
   "id": "instructional-cameroon",
   "metadata": {},
   "source": [
    "After running into the issue, I started looking for an answer and I dound a solution in stackoverflow: https://stackoverflow.com/questions/43357151/not-returning-expected-result-python "
   ]
  },
  {
   "cell_type": "code",
   "execution_count": 65,
   "id": "removed-boston",
   "metadata": {},
   "outputs": [],
   "source": [
    "def isPhoneNumber(text):      #determining if the phone number is us, canadian style or not.\n",
    "    if len(text) != 12:\n",
    "        print(\"not 12 digits\")\n",
    "        return False          #not phone number sized\n",
    "\n",
    "    for i in range(0,3):\n",
    "        if not text[i].isdecimal():      #if not a decimal/number character we can use \n",
    "            print(\"first 3 characters are not numbers\")\n",
    "            return False\n",
    "\n",
    "    if text[3] != \"-\":\n",
    "        print(\"missing dash after the area code\")\n",
    "        return False       #missing dash\n",
    "\n",
    "    for i in range(4,7):\n",
    "        if not text[i].isdecimal():\n",
    "            print(\"three characters in the middle are not numbers\")\n",
    "            return False\n",
    "\n",
    "    if text[7] != \"-\":\n",
    "        print(\"missing second dash\")\n",
    "        return False\n",
    "\n",
    "    for i in range(8,12):\n",
    "        if not text[i].isdecimal():\n",
    "            print(\"last four characters are not numbers\")\n",
    "            return False      #missing the last 4 digits\n",
    "\n",
    "    return True"
   ]
  },
  {
   "cell_type": "code",
   "execution_count": 66,
   "id": "thermal-wisconsin",
   "metadata": {},
   "outputs": [
    {
     "data": {
      "text/plain": [
       "True"
      ]
     },
     "execution_count": 66,
     "metadata": {},
     "output_type": "execute_result"
    }
   ],
   "source": [
    "isPhoneNumber(\"414-555-0000\")"
   ]
  },
  {
   "cell_type": "markdown",
   "id": "academic-decision",
   "metadata": {},
   "source": [
    "# Chapter 7 - Evaluation "
   ]
  },
  {
   "cell_type": "markdown",
   "id": "three-shade",
   "metadata": {},
   "source": [
    "In this chapter, I learnt of the ways to searcg a spcpic patterns of characters while programming. In this chapter, I tried to understand how Regex objects can be copiled in various ways such as search() ,  findall() and sub() functions. However explanations of this chapter was harder to understand as I could not proceed with all the questions. "
   ]
  },
  {
   "cell_type": "markdown",
   "id": "violent-phenomenon",
   "metadata": {},
   "source": [
    "# Chapter 8 - Input Validation\n"
   ]
  },
  {
   "cell_type": "markdown",
   "id": "hundred-richmond",
   "metadata": {},
   "source": [
    "Functions similar to input() -for e-mail addresses, birthdays and others- are also contained in the PyInputPlus Module."
   ]
  },
  {
   "cell_type": "code",
   "execution_count": null,
   "id": "yellow-opening",
   "metadata": {},
   "outputs": [],
   "source": [
    "pip install pyinputplus"
   ]
  },
  {
   "cell_type": "code",
   "execution_count": null,
   "id": "satellite-answer",
   "metadata": {},
   "outputs": [],
   "source": [
    "import pyinputplus as pyip\n",
    "result = pyip.inputStr()"
   ]
  },
  {
   "cell_type": "code",
   "execution_count": null,
   "id": "directed-width",
   "metadata": {},
   "outputs": [],
   "source": [
    "result = pyip.inputNum(min=4, max=6)\n"
   ]
  },
  {
   "cell_type": "markdown",
   "id": "spatial-function",
   "metadata": {},
   "source": [
    " # Project: How to Keep an Idiot Busy for Hours \n",
    " PyInputPlus in practice"
   ]
  },
  {
   "cell_type": "code",
   "execution_count": 11,
   "id": "fatal-brisbane",
   "metadata": {
    "scrolled": true
   },
   "outputs": [
    {
     "name": "stdout",
     "output_type": "stream",
     "text": [
      "Want to know how to keep an idiot busy for hours?\n",
      "yes\n",
      "Want to know how to keep an idiot busy for hours?\n",
      "ye\n",
      "'ye' is not a valid yes/no response.\n",
      "Want to know how to keep an idiot busy for hours?\n",
      "yes\n",
      "Want to know how to keep an idiot busy for hours?\n",
      "?\n",
      "'?' is not a valid yes/no response.\n",
      "Want to know how to keep an idiot busy for hours?\n",
      "no\n",
      "Thank you. Bye\n"
     ]
    }
   ],
   "source": [
    "import pyinputplus as pyip\n",
    "while True: \n",
    "    prompt='Want to know how to keep an idiot busy for hours?\\n'\n",
    "    response= pyip.inputYesNo(prompt)\n",
    "    if response == 'no':\n",
    "        break\n",
    "print('Thank you. Bye')"
   ]
  },
  {
   "cell_type": "markdown",
   "id": "canadian-claim",
   "metadata": {},
   "source": [
    "Question 1"
   ]
  },
  {
   "cell_type": "markdown",
   "id": "second-ferry",
   "metadata": {},
   "source": [
    "PyInputPlus is not in the standard library and is installed as follows: $ pip3 install --user pyinputplus."
   ]
  },
  {
   "cell_type": "markdown",
   "id": "together-stationery",
   "metadata": {},
   "source": [
    "Question 2"
   ]
  },
  {
   "cell_type": "markdown",
   "id": "sixth-heater",
   "metadata": {},
   "source": [
    "As mentioned in the book, if you import the module with  import pyinputplus as pyip , a short name can be defined to the module functions such as inputs, strings, numbers and dates. This way the code can be made shorter."
   ]
  },
  {
   "cell_type": "markdown",
   "id": "diverse-edward",
   "metadata": {},
   "source": [
    "Question 3"
   ]
  },
  {
   "cell_type": "markdown",
   "id": "generous-glance",
   "metadata": {},
   "source": [
    "inputInt() requires a integer value data type (e.g:5) while inputFloat() rquires a float value (e.g.: 5.0). "
   ]
  },
  {
   "cell_type": "markdown",
   "id": "discrete-engagement",
   "metadata": {},
   "source": [
    "Question 4"
   ]
  },
  {
   "cell_type": "code",
   "execution_count": null,
   "id": "lucky-canvas",
   "metadata": {},
   "outputs": [],
   "source": [
    "import pyinputplus as pyip"
   ]
  },
  {
   "cell_type": "code",
   "execution_count": null,
   "id": "amazing-conjunction",
   "metadata": {},
   "outputs": [],
   "source": [
    "pyip.inputStr()"
   ]
  },
  {
   "cell_type": "code",
   "execution_count": null,
   "id": "lesbian-ordinary",
   "metadata": {},
   "outputs": [],
   "source": [
    "#You can call: pyip.inputint(min=0, max=99)"
   ]
  },
  {
   "cell_type": "markdown",
   "id": "mineral-sound",
   "metadata": {},
   "source": [
    "Question 5"
   ]
  },
  {
   "cell_type": "markdown",
   "id": "numerous-cooperative",
   "metadata": {},
   "source": [
    "allowRegexes and blockRegexes keyword arguments evaluate the list of expression stringfs and determine if the PyInputPlus function will allow or denied."
   ]
  },
  {
   "cell_type": "markdown",
   "id": "known-leave",
   "metadata": {},
   "source": [
    "Question 6"
   ]
  },
  {
   "cell_type": "markdown",
   "id": "demonstrated-rocket",
   "metadata": {},
   "source": [
    "The function limit of RetryLimitException will be increased."
   ]
  },
  {
   "cell_type": "markdown",
   "id": "first-corpus",
   "metadata": {},
   "source": [
    "Question 7"
   ]
  },
  {
   "cell_type": "markdown",
   "id": "alike-savage",
   "metadata": {},
   "source": [
    "As the default is defined as 'hello', the input will give 'hello' as a result."
   ]
  },
  {
   "cell_type": "markdown",
   "id": "earned-attraction",
   "metadata": {},
   "source": [
    "# Chapter 8 - Evaluation"
   ]
  },
  {
   "cell_type": "markdown",
   "id": "potential-climb",
   "metadata": {},
   "source": [
    "In this chapter, by using the PyInputPlus Module I looked at how the functions similar to input () for data like date and numbers are contained in the module. I am overall satisfied with the chapter as my small project worked perfectly! The chapter was valuable as the module explained how a shorter name imput can be entered while calling module functions which is very useful. "
   ]
  },
  {
   "cell_type": "markdown",
   "id": "detected-cornell",
   "metadata": {},
   "source": [
    "# Chapter 9 - Reading and Writing Files"
   ]
  },
  {
   "cell_type": "markdown",
   "id": "stone-square",
   "metadata": {},
   "source": [
    "To open a file on the computer, Open()fucntion can be used. Writing files tried below:"
   ]
  },
  {
   "cell_type": "code",
   "execution_count": 15,
   "id": "basic-england",
   "metadata": {},
   "outputs": [],
   "source": [
    "baconFile = open('bacon.txt' , 'w')"
   ]
  },
  {
   "cell_type": "code",
   "execution_count": 16,
   "id": "extraordinary-teddy",
   "metadata": {},
   "outputs": [
    {
     "data": {
      "text/plain": [
       "14"
      ]
     },
     "execution_count": 16,
     "metadata": {},
     "output_type": "execute_result"
    }
   ],
   "source": [
    "baconFile.write('Hello, world!\\n')"
   ]
  },
  {
   "cell_type": "code",
   "execution_count": 17,
   "id": "horizontal-demographic",
   "metadata": {},
   "outputs": [],
   "source": [
    "baconFile.close()"
   ]
  },
  {
   "cell_type": "code",
   "execution_count": 18,
   "id": "acquired-behalf",
   "metadata": {},
   "outputs": [],
   "source": [
    "baconFile = open ('bacon.txt' , 'a')"
   ]
  },
  {
   "cell_type": "code",
   "execution_count": 19,
   "id": "correct-ballet",
   "metadata": {},
   "outputs": [
    {
     "data": {
      "text/plain": [
       "25"
      ]
     },
     "execution_count": 19,
     "metadata": {},
     "output_type": "execute_result"
    }
   ],
   "source": [
    "baconFile.write('Bacon is not a vegetable.')"
   ]
  },
  {
   "cell_type": "code",
   "execution_count": 20,
   "id": "royal-nicaragua",
   "metadata": {},
   "outputs": [],
   "source": [
    "baconFile.close()"
   ]
  },
  {
   "cell_type": "code",
   "execution_count": 21,
   "id": "reserved-angle",
   "metadata": {},
   "outputs": [],
   "source": [
    "BaconFile = open ('Bacon.txt')"
   ]
  },
  {
   "cell_type": "code",
   "execution_count": 22,
   "id": "comparative-poker",
   "metadata": {},
   "outputs": [],
   "source": [
    "content = ('bacon.txt')"
   ]
  },
  {
   "cell_type": "code",
   "execution_count": 23,
   "id": "unauthorized-selling",
   "metadata": {},
   "outputs": [],
   "source": [
    "baconFile.close()"
   ]
  },
  {
   "cell_type": "code",
   "execution_count": 27,
   "id": "seeing-worcester",
   "metadata": {},
   "outputs": [
    {
     "name": "stdout",
     "output_type": "stream",
     "text": [
      "bacon.txt\n"
     ]
    }
   ],
   "source": [
    "print (content)"
   ]
  },
  {
   "cell_type": "code",
   "execution_count": null,
   "id": "placed-honor",
   "metadata": {},
   "outputs": [],
   "source": [
    "Hello, world!\n",
    "Bacon is not a vegetable"
   ]
  },
  {
   "cell_type": "markdown",
   "id": "upset-mission",
   "metadata": {},
   "source": [
    "Shelve module can be used to save variables:"
   ]
  },
  {
   "cell_type": "code",
   "execution_count": 30,
   "id": "decent-jimmy",
   "metadata": {},
   "outputs": [],
   "source": [
    "import shelve"
   ]
  },
  {
   "cell_type": "code",
   "execution_count": 31,
   "id": "social-complaint",
   "metadata": {},
   "outputs": [],
   "source": [
    "shelfFile = shelve.open('mydata')"
   ]
  },
  {
   "cell_type": "code",
   "execution_count": 32,
   "id": "paperback-delhi",
   "metadata": {},
   "outputs": [],
   "source": [
    "cats = ['Zophie', 'Pooka', 'Simon']"
   ]
  },
  {
   "cell_type": "code",
   "execution_count": 33,
   "id": "after-combination",
   "metadata": {},
   "outputs": [],
   "source": [
    "shelfFile['cats'] = cats"
   ]
  },
  {
   "cell_type": "code",
   "execution_count": 34,
   "id": "peripheral-lover",
   "metadata": {},
   "outputs": [],
   "source": [
    "shelfFile.close()"
   ]
  },
  {
   "cell_type": "code",
   "execution_count": 35,
   "id": "hollow-knowing",
   "metadata": {},
   "outputs": [],
   "source": [
    "shelfFile = shelve.open('mydata')"
   ]
  },
  {
   "cell_type": "code",
   "execution_count": 36,
   "id": "given-hazard",
   "metadata": {},
   "outputs": [
    {
     "data": {
      "text/plain": [
       "shelve.DbfilenameShelf"
      ]
     },
     "execution_count": 36,
     "metadata": {},
     "output_type": "execute_result"
    }
   ],
   "source": [
    "type(shelfFile)"
   ]
  },
  {
   "cell_type": "code",
   "execution_count": 37,
   "id": "becoming-scanner",
   "metadata": {},
   "outputs": [
    {
     "data": {
      "text/plain": [
       "['Zophie', 'Pooka', 'Simon']"
      ]
     },
     "execution_count": 37,
     "metadata": {},
     "output_type": "execute_result"
    }
   ],
   "source": [
    "shelfFile['cats']"
   ]
  },
  {
   "cell_type": "code",
   "execution_count": 38,
   "id": "hourly-alert",
   "metadata": {},
   "outputs": [],
   "source": [
    "shelfFile.close()"
   ]
  },
  {
   "cell_type": "code",
   "execution_count": 39,
   "id": "protecting-dragon",
   "metadata": {},
   "outputs": [],
   "source": [
    "shelfFile = shelve.open('mydata')"
   ]
  },
  {
   "cell_type": "code",
   "execution_count": 40,
   "id": "wanted-senegal",
   "metadata": {},
   "outputs": [
    {
     "data": {
      "text/plain": [
       "['cats']"
      ]
     },
     "execution_count": 40,
     "metadata": {},
     "output_type": "execute_result"
    }
   ],
   "source": [
    "list(shelfFile.keys())"
   ]
  },
  {
   "cell_type": "code",
   "execution_count": 41,
   "id": "electric-expression",
   "metadata": {},
   "outputs": [
    {
     "data": {
      "text/plain": [
       "[['Zophie', 'Pooka', 'Simon']]"
      ]
     },
     "execution_count": 41,
     "metadata": {},
     "output_type": "execute_result"
    }
   ],
   "source": [
    "list(shelfFile.values())"
   ]
  },
  {
   "cell_type": "code",
   "execution_count": 42,
   "id": "bacterial-elephant",
   "metadata": {},
   "outputs": [],
   "source": [
    "shelfFile.close()"
   ]
  },
  {
   "cell_type": "markdown",
   "id": "perfect-harmony",
   "metadata": {},
   "source": [
    "The use of pprint.pformat() function when saving variables"
   ]
  },
  {
   "cell_type": "code",
   "execution_count": 43,
   "id": "timely-fever",
   "metadata": {},
   "outputs": [],
   "source": [
    "import pprint"
   ]
  },
  {
   "cell_type": "code",
   "execution_count": 44,
   "id": "endangered-antibody",
   "metadata": {},
   "outputs": [],
   "source": [
    "cats = [{'name': 'Zophie', 'Ahmet': 'chubby'},{'name': 'Pogaca', 'Ahmet': 'fluffy'}]\n"
   ]
  },
  {
   "cell_type": "code",
   "execution_count": 45,
   "id": "hundred-confusion",
   "metadata": {},
   "outputs": [
    {
     "data": {
      "text/plain": [
       "\"[{'Ahmet': 'chubby', 'name': 'Zophie'}, {'Ahmet': 'fluffy', 'name': 'Pogaca'}]\""
      ]
     },
     "execution_count": 45,
     "metadata": {},
     "output_type": "execute_result"
    }
   ],
   "source": [
    "pprint.pformat(cats)"
   ]
  },
  {
   "cell_type": "code",
   "execution_count": 46,
   "id": "stuck-sailing",
   "metadata": {},
   "outputs": [
    {
     "data": {
      "text/plain": [
       "\"[{'Ahmet':'chubby' , 'name' : 'Zophie'}, {'Ahmet': 'fluffy', 'name': 'pogaca'}]\""
      ]
     },
     "execution_count": 46,
     "metadata": {},
     "output_type": "execute_result"
    }
   ],
   "source": [
    "\"[{'Ahmet':'chubby' , 'name' : 'Zophie'}, {'Ahmet': 'fluffy', 'name': 'pogaca'}]\""
   ]
  },
  {
   "cell_type": "code",
   "execution_count": 47,
   "id": "liked-investment",
   "metadata": {},
   "outputs": [],
   "source": [
    "fileObj = open ('myCats.py' ,'w')"
   ]
  },
  {
   "cell_type": "code",
   "execution_count": 48,
   "id": "egyptian-elevation",
   "metadata": {},
   "outputs": [
    {
     "data": {
      "text/plain": [
       "86"
      ]
     },
     "execution_count": 48,
     "metadata": {},
     "output_type": "execute_result"
    }
   ],
   "source": [
    "fileObj.write('cats = ' + pprint.pformat(cats) + '\\n')"
   ]
  },
  {
   "cell_type": "code",
   "execution_count": 49,
   "id": "maritime-history",
   "metadata": {},
   "outputs": [],
   "source": [
    "fileObj.close()"
   ]
  },
  {
   "cell_type": "markdown",
   "id": "moving-shipping",
   "metadata": {},
   "source": [
    "Question 1"
   ]
  },
  {
   "cell_type": "markdown",
   "id": "fleet-butler",
   "metadata": {},
   "source": [
    "Current working directory is relative to the relative path"
   ]
  },
  {
   "cell_type": "markdown",
   "id": "exact-translation",
   "metadata": {},
   "source": [
    "Question 2"
   ]
  },
  {
   "cell_type": "markdown",
   "id": "ignored-trading",
   "metadata": {},
   "source": [
    "Root folder is the starting location for Absolute paths "
   ]
  },
  {
   "cell_type": "markdown",
   "id": "sensitive-tongue",
   "metadata": {},
   "source": [
    "Question 3"
   ]
  },
  {
   "cell_type": "markdown",
   "id": "tracked-selling",
   "metadata": {},
   "source": [
    "WindowsPath('C:/Users/Al')"
   ]
  },
  {
   "cell_type": "markdown",
   "id": "instructional-vancouver",
   "metadata": {},
   "source": [
    "Question 4"
   ]
  },
  {
   "cell_type": "markdown",
   "id": "solar-rebate",
   "metadata": {},
   "source": [
    "/ operator could be used to join two strings and it would give an error."
   ]
  },
  {
   "cell_type": "markdown",
   "id": "personalized-innocent",
   "metadata": {},
   "source": [
    "Question 5"
   ]
  },
  {
   "cell_type": "markdown",
   "id": "fatal-background",
   "metadata": {},
   "source": [
    "os.getcwd() = Return the current directory.\n",
    "\n",
    "os.chdir() = Change the current directory."
   ]
  },
  {
   "cell_type": "markdown",
   "id": "after-french",
   "metadata": {},
   "source": [
    "Question 6"
   ]
  },
  {
   "cell_type": "markdown",
   "id": "through-floating",
   "metadata": {},
   "source": [
    ". = current folder\n",
    "\n",
    ".. = parent folder "
   ]
  },
  {
   "cell_type": "markdown",
   "id": "passing-lafayette",
   "metadata": {},
   "source": [
    "Question 7"
   ]
  },
  {
   "cell_type": "markdown",
   "id": "arctic-station",
   "metadata": {},
   "source": [
    "C:\\bacon\\eggs = dir name\n",
    "    \n",
    "spam.txt = base name"
   ]
  },
  {
   "cell_type": "markdown",
   "id": "amazing-inflation",
   "metadata": {},
   "source": [
    "Question 8"
   ]
  },
  {
   "cell_type": "markdown",
   "id": "sophisticated-energy",
   "metadata": {},
   "source": [
    "r = read mode\n",
    "\n",
    "w = write mode\n",
    "\n",
    "a = append mode"
   ]
  },
  {
   "cell_type": "markdown",
   "id": "abroad-partnership",
   "metadata": {},
   "source": [
    "Question 9"
   ]
  },
  {
   "cell_type": "markdown",
   "id": "decreased-copyright",
   "metadata": {},
   "source": [
    "when an existing file is opened in a write mode it would be totally altered and erased."
   ]
  },
  {
   "cell_type": "markdown",
   "id": "adolescent-edgar",
   "metadata": {},
   "source": [
    "Question 10"
   ]
  },
  {
   "cell_type": "markdown",
   "id": "solar-monkey",
   "metadata": {},
   "source": [
    "read()  = file's entire content is returned as a single string value.\n",
    "\n",
    "readlines() = each line of content from a file turned into a sperate strings as listed."
   ]
  },
  {
   "cell_type": "markdown",
   "id": "facial-broad",
   "metadata": {},
   "source": [
    "Question 11"
   ]
  },
  {
   "cell_type": "markdown",
   "id": "italian-month",
   "metadata": {},
   "source": [
    "Shelf value is similar to a dictionary value due to having keys and values. "
   ]
  },
  {
   "cell_type": "markdown",
   "id": "leading-fault",
   "metadata": {},
   "source": [
    "# Chapter 9 - Evaluation"
   ]
  },
  {
   "cell_type": "markdown",
   "id": "sacred-stationery",
   "metadata": {},
   "source": [
    "In this chapter I learned how the folders are organized as directories and paths that describes their location. I practiced creating and saving files on a hard drive. Differnt operating systems such as Windows or Mac were discussed in detail in the chapter. Main takeaways include navigate within the Home Directory by Absolute Path which begings with root folder and Relative Path which is relative to the program's selected directory. As the directory examples were shown how to be executed in Windows, it was relatively easier to follow through this chapter."
   ]
  },
  {
   "cell_type": "markdown",
   "id": "green-morgan",
   "metadata": {},
   "source": [
    "# Chapter 10 - Organising Files"
   ]
  },
  {
   "cell_type": "markdown",
   "id": "attached-statistics",
   "metadata": {},
   "source": [
    "Practice"
   ]
  },
  {
   "cell_type": "code",
   "execution_count": 7,
   "id": "coordinated-farming",
   "metadata": {},
   "outputs": [
    {
     "name": "stdout",
     "output_type": "stream",
     "text": [
      "Requirement already satisfied: send2trash in c:\\users\\nasbeck\\appdata\\local\\programs\\python\\python39\\lib\\site-packages (1.5.0)\n",
      "Note: you may need to restart the kernel to use updated packages.\n"
     ]
    },
    {
     "name": "stderr",
     "output_type": "stream",
     "text": [
      "WARNING: You are using pip version 20.2.3; however, version 21.1.2 is available.\n",
      "You should consider upgrading via the 'c:\\users\\nasbeck\\appdata\\local\\programs\\python\\python39\\python.exe -m pip install --upgrade pip' command.\n"
     ]
    }
   ],
   "source": [
    "pip install --user send2trash"
   ]
  },
  {
   "cell_type": "code",
   "execution_count": 8,
   "id": "biblical-bridal",
   "metadata": {},
   "outputs": [],
   "source": [
    "import send2trash"
   ]
  },
  {
   "cell_type": "code",
   "execution_count": 10,
   "id": "musical-sister",
   "metadata": {},
   "outputs": [],
   "source": [
    "baconFile =open('bacon.txt','a') #file is created"
   ]
  },
  {
   "cell_type": "code",
   "execution_count": 11,
   "id": "declared-official",
   "metadata": {},
   "outputs": [
    {
     "data": {
      "text/plain": [
       "25"
      ]
     },
     "execution_count": 11,
     "metadata": {},
     "output_type": "execute_result"
    }
   ],
   "source": [
    "baconFile.write('Bacon is not a vegetable.')"
   ]
  },
  {
   "cell_type": "code",
   "execution_count": 13,
   "id": "extensive-clearance",
   "metadata": {},
   "outputs": [],
   "source": [
    "baconFile.close()"
   ]
  },
  {
   "cell_type": "code",
   "execution_count": 14,
   "id": "corresponding-friendly",
   "metadata": {},
   "outputs": [],
   "source": [
    "send2trash.send2trash('bacon.txt') #It worked perfectly! the file is in the trash :)"
   ]
  },
  {
   "cell_type": "markdown",
   "id": "acquired-newark",
   "metadata": {},
   "source": [
    "Question 1"
   ]
  },
  {
   "cell_type": "markdown",
   "id": "passive-movement",
   "metadata": {},
   "source": [
    "shutil.copy() = the function is used to copy a single file.\n",
    "\n",
    "shutil.copytree()  = the function allows you to copy an entire folder."
   ]
  },
  {
   "cell_type": "markdown",
   "id": "orange-speech",
   "metadata": {},
   "source": [
    "Question 2"
   ]
  },
  {
   "cell_type": "markdown",
   "id": "preceding-entry",
   "metadata": {},
   "source": [
    "shutil.move() = the fucnction can be used to rename a file and move it."
   ]
  },
  {
   "cell_type": "markdown",
   "id": "alone-conclusion",
   "metadata": {},
   "source": [
    "Question 3"
   ]
  },
  {
   "cell_type": "markdown",
   "id": "closing-constraint",
   "metadata": {},
   "source": [
    "send2trash = the function is used to move  file/folder into the trash.\n",
    "\n",
    "shutil = the function is used to permenantly delete the files/folders."
   ]
  },
  {
   "cell_type": "markdown",
   "id": "floating-democrat",
   "metadata": {},
   "source": [
    "Question 4"
   ]
  },
  {
   "cell_type": "markdown",
   "id": "correct-tenant",
   "metadata": {},
   "source": [
    "zipfile.ZipFile() function = open() function \n",
    "\n",
    "The arguments are as follows: the filename, the openning mode (read/write)."
   ]
  },
  {
   "cell_type": "markdown",
   "id": "lightweight-spine",
   "metadata": {},
   "source": [
    "# Chapter 10 - Evaluation"
   ]
  },
  {
   "cell_type": "markdown",
   "id": "british-quilt",
   "metadata": {},
   "source": [
    "In this chapter, various functions are introduced in order to organize files. Shutil module includes various functions such as copy, move , rename and delete files. One can use shutil.copy() function to copy, shutil.move function to move,  os.unlink(path) function to delete folders... send2trash module, trash module can be used in order to not delete an important file permanently. Phyton can also be used to read extract and create ZIP files. As the book teaches through windows examples, I had a chance to understand the chapter much better. "
   ]
  },
  {
   "cell_type": "markdown",
   "id": "structured-aurora",
   "metadata": {},
   "source": [
    "# Chapter 11 - Debugging"
   ]
  },
  {
   "cell_type": "markdown",
   "id": "crazy-armstrong",
   "metadata": {},
   "source": [
    "Practice "
   ]
  },
  {
   "cell_type": "code",
   "execution_count": 2,
   "id": "qualified-uncertainty",
   "metadata": {},
   "outputs": [
    {
     "ename": "Exception",
     "evalue": "",
     "output_type": "error",
     "traceback": [
      "\u001b[1;31m---------------------------------------------------------------------------\u001b[0m",
      "\u001b[1;31mException\u001b[0m                                 Traceback (most recent call last)",
      "\u001b[1;32m<ipython-input-2-2aee0157c87b>\u001b[0m in \u001b[0;36m<module>\u001b[1;34m\u001b[0m\n\u001b[1;32m----> 1\u001b[1;33m \u001b[1;32mraise\u001b[0m \u001b[0mException\u001b[0m\u001b[1;33m\u001b[0m\u001b[1;33m\u001b[0m\u001b[0m\n\u001b[0m",
      "\u001b[1;31mException\u001b[0m: "
     ]
    }
   ],
   "source": [
    "raise Exception"
   ]
  },
  {
   "cell_type": "code",
   "execution_count": 8,
   "id": "atmospheric-sleeve",
   "metadata": {},
   "outputs": [],
   "source": [
    "def boxPrint(symbol, width, height):\n",
    "    if len(symbol) !=1:\n",
    "        raise Exception('Symbol must be a single character string.')\n",
    "    if width <=2:\n",
    "        raise Exception ('Width must be greater than 2.')\n",
    "    if height <=2:\n",
    "        raise Exception('Height must be greater than 2.')"
   ]
  },
  {
   "cell_type": "code",
   "execution_count": 15,
   "id": "expanded-emperor",
   "metadata": {},
   "outputs": [
    {
     "ename": "NameError",
     "evalue": "name 'symbol' is not defined",
     "output_type": "error",
     "traceback": [
      "\u001b[1;31m---------------------------------------------------------------------------\u001b[0m",
      "\u001b[1;31mNameError\u001b[0m                                 Traceback (most recent call last)",
      "\u001b[1;32m<ipython-input-15-932a7dd22fde>\u001b[0m in \u001b[0;36m<module>\u001b[1;34m\u001b[0m\n\u001b[1;32m----> 1\u001b[1;33m \u001b[0mprint\u001b[0m\u001b[1;33m(\u001b[0m\u001b[0msymbol\u001b[0m \u001b[1;33m*\u001b[0m \u001b[0mwidth\u001b[0m\u001b[1;33m)\u001b[0m\u001b[1;33m\u001b[0m\u001b[1;33m\u001b[0m\u001b[0m\n\u001b[0m\u001b[0;32m      2\u001b[0m \u001b[1;32mfor\u001b[0m \u001b[0mi\u001b[0m \u001b[1;32min\u001b[0m \u001b[0mrange\u001b[0m\u001b[1;33m(\u001b[0m\u001b[0mheight\u001b[0m \u001b[1;33m-\u001b[0m \u001b[1;36m2\u001b[0m\u001b[1;33m)\u001b[0m\u001b[1;33m:\u001b[0m\u001b[1;33m\u001b[0m\u001b[1;33m\u001b[0m\u001b[0m\n\u001b[0;32m      3\u001b[0m     \u001b[0mprint\u001b[0m\u001b[1;33m(\u001b[0m\u001b[0msymbol\u001b[0m \u001b[1;33m+\u001b[0m \u001b[1;33m(\u001b[0m\u001b[1;34m' '\u001b[0m \u001b[1;33m*\u001b[0m \u001b[1;33m(\u001b[0m\u001b[0mwidth\u001b[0m \u001b[1;33m-\u001b[0m \u001b[1;36m2\u001b[0m\u001b[1;33m)\u001b[0m\u001b[1;33m)\u001b[0m \u001b[1;33m+\u001b[0m \u001b[0msymbol\u001b[0m\u001b[1;33m)\u001b[0m\u001b[1;33m\u001b[0m\u001b[1;33m\u001b[0m\u001b[0m\n\u001b[0;32m      4\u001b[0m \u001b[0mprint\u001b[0m\u001b[1;33m(\u001b[0m\u001b[0msymbol\u001b[0m \u001b[1;33m*\u001b[0m \u001b[0mwidth\u001b[0m\u001b[1;33m)\u001b[0m\u001b[1;33m\u001b[0m\u001b[1;33m\u001b[0m\u001b[0m\n",
      "\u001b[1;31mNameError\u001b[0m: name 'symbol' is not defined"
     ]
    }
   ],
   "source": [
    "print(symbol * width)\n",
    "for i in range(height - 2):\n",
    "    print(symbol + (' ' * (width - 2)) + symbol)\n",
    "print(symbol * width)"
   ]
  },
  {
   "cell_type": "code",
   "execution_count": 16,
   "id": "existing-patio",
   "metadata": {},
   "outputs": [
    {
     "ename": "SyntaxError",
     "evalue": "invalid syntax (<ipython-input-16-07ef03810dcc>, line 4)",
     "output_type": "error",
     "traceback": [
      "\u001b[1;36m  File \u001b[1;32m\"<ipython-input-16-07ef03810dcc>\"\u001b[1;36m, line \u001b[1;32m4\u001b[0m\n\u001b[1;33m    except Exception as err:\u001b[0m\n\u001b[1;37m    ^\u001b[0m\n\u001b[1;31mSyntaxError\u001b[0m\u001b[1;31m:\u001b[0m invalid syntax\n"
     ]
    }
   ],
   "source": [
    "for sym, w, h in (('*', 4, 4) , ('0', 20, 5) , ('x', 1, 3), ('ZZ', 3, 3)):\n",
    "    try:\n",
    "        boxPrint(sym, w, h)\n",
    "        except Exception as err:\n",
    "            print('An exception happened: ' + str(err))"
   ]
  },
  {
   "cell_type": "markdown",
   "id": "distant-confusion",
   "metadata": {},
   "source": [
    "Logging Module"
   ]
  },
  {
   "cell_type": "markdown",
   "id": "collected-number",
   "metadata": {},
   "source": [
    "logging.debug() function in use:\n",
    "\n",
    "0 cannot be the factorial of 5 however the program reflects factorial() as 5."
   ]
  },
  {
   "cell_type": "code",
   "execution_count": 17,
   "id": "stainless-cookie",
   "metadata": {},
   "outputs": [],
   "source": [
    "import logging"
   ]
  },
  {
   "cell_type": "code",
   "execution_count": 18,
   "id": "conservative-drove",
   "metadata": {},
   "outputs": [
    {
     "name": "stderr",
     "output_type": "stream",
     "text": [
      "DEBUG:root:test\n"
     ]
    }
   ],
   "source": [
    "import logging\n",
    "logger = logging.getLogger()\n",
    "logger.setLevel(logging.DEBUG)\n",
    "logging.debug(\"test\")"
   ]
  },
  {
   "cell_type": "code",
   "execution_count": 19,
   "id": "persistent-chorus",
   "metadata": {},
   "outputs": [],
   "source": [
    "def factorial(n):\n",
    "    logging.debug('Start of Factorial(%s%%)' % (n))\n",
    "    total=1\n",
    "    for i in range(n + 1):\n",
    "        total *=i\n",
    "        logging.debug('i is' +str(i) + 'total is' + str(total))\n",
    "    logging.debug('End of factorial (%s%%)' % (n))\n",
    "    return total"
   ]
  },
  {
   "cell_type": "code",
   "execution_count": 21,
   "id": "living-praise",
   "metadata": {},
   "outputs": [
    {
     "name": "stderr",
     "output_type": "stream",
     "text": [
      "DEBUG:root:Start of Factorial(5%)\n",
      "DEBUG:root:i is0total is0\n",
      "DEBUG:root:i is1total is0\n",
      "DEBUG:root:i is2total is0\n",
      "DEBUG:root:i is3total is0\n",
      "DEBUG:root:i is4total is0\n",
      "DEBUG:root:i is5total is0\n",
      "DEBUG:root:End of factorial (5%)\n",
      "DEBUG:root:End of program\n"
     ]
    },
    {
     "name": "stdout",
     "output_type": "stream",
     "text": [
      "0\n"
     ]
    }
   ],
   "source": [
    "print(factorial(5))\n",
    "logging.debug('End of program')"
   ]
  },
  {
   "cell_type": "markdown",
   "id": "burning-copper",
   "metadata": {},
   "source": [
    "By using a differemt range (1, n + 1), the same program can run correctly:"
   ]
  },
  {
   "cell_type": "code",
   "execution_count": 22,
   "id": "loose-character",
   "metadata": {},
   "outputs": [
    {
     "name": "stderr",
     "output_type": "stream",
     "text": [
      "DEBUG:root:test\n"
     ]
    }
   ],
   "source": [
    "import logging\n",
    "logger = logging.getLogger()\n",
    "logger.setLevel(logging.DEBUG)\n",
    "logging.debug(\"test\")"
   ]
  },
  {
   "cell_type": "code",
   "execution_count": 23,
   "id": "proved-hampton",
   "metadata": {},
   "outputs": [],
   "source": [
    "def factorial(n):\n",
    "    logging.debug('Start of Factorial(%s%%)' % (n))\n",
    "    total=1\n",
    "    for i in range(1, n + 1):\n",
    "        total *=i\n",
    "        logging.debug('i is' +str(i) + 'total is' + str(total))\n",
    "    logging.debug('End of factorial (%s%%)' % (n))\n",
    "    return total"
   ]
  },
  {
   "cell_type": "code",
   "execution_count": 24,
   "id": "mysterious-wesley",
   "metadata": {},
   "outputs": [
    {
     "name": "stderr",
     "output_type": "stream",
     "text": [
      "DEBUG:root:Start of Factorial(5%)\n",
      "DEBUG:root:i is1total is1\n",
      "DEBUG:root:i is2total is2\n",
      "DEBUG:root:i is3total is6\n",
      "DEBUG:root:i is4total is24\n",
      "DEBUG:root:i is5total is120\n",
      "DEBUG:root:End of factorial (5%)\n",
      "DEBUG:root:End of program\n"
     ]
    },
    {
     "name": "stdout",
     "output_type": "stream",
     "text": [
      "120\n"
     ]
    }
   ],
   "source": [
    "print(factorial(5))\n",
    "logging.debug('End of program')"
   ]
  },
  {
   "cell_type": "markdown",
   "id": "amino-medium",
   "metadata": {},
   "source": [
    "Question 1"
   ]
  },
  {
   "cell_type": "code",
   "execution_count": 26,
   "id": "every-application",
   "metadata": {},
   "outputs": [
    {
     "ename": "NameError",
     "evalue": "name 'spam' is not defined",
     "output_type": "error",
     "traceback": [
      "\u001b[1;31m---------------------------------------------------------------------------\u001b[0m",
      "\u001b[1;31mNameError\u001b[0m                                 Traceback (most recent call last)",
      "\u001b[1;32m<ipython-input-26-a4465c3c40ab>\u001b[0m in \u001b[0;36m<module>\u001b[1;34m\u001b[0m\n\u001b[1;32m----> 1\u001b[1;33m \u001b[1;32massert\u001b[0m \u001b[0mspam\u001b[0m \u001b[1;33m>=\u001b[0m \u001b[1;36m10\u001b[0m\u001b[1;33m,\u001b[0m \u001b[1;34m'The spam variable is less than 10.'\u001b[0m\u001b[1;33m\u001b[0m\u001b[1;33m\u001b[0m\u001b[0m\n\u001b[0m",
      "\u001b[1;31mNameError\u001b[0m: name 'spam' is not defined"
     ]
    }
   ],
   "source": [
    "assert spam >= 10, 'The spam variable is less than 10.'"
   ]
  },
  {
   "cell_type": "markdown",
   "id": "dynamic-australian",
   "metadata": {},
   "source": [
    "Question 2"
   ]
  },
  {
   "cell_type": "code",
   "execution_count": 34,
   "id": "hundred-gothic",
   "metadata": {},
   "outputs": [],
   "source": [
    "eggs = 'hello'\n",
    "bacon = 'good bye'"
   ]
  },
  {
   "cell_type": "code",
   "execution_count": 33,
   "id": "parliamentary-moscow",
   "metadata": {},
   "outputs": [],
   "source": [
    "assert eggs.upper() != bacon.upper(), 'The eggs and bacon variables are the same!'"
   ]
  },
  {
   "cell_type": "markdown",
   "id": "subtle-attribute",
   "metadata": {},
   "source": [
    "Question 3"
   ]
  },
  {
   "cell_type": "code",
   "execution_count": 35,
   "id": "prepared-board",
   "metadata": {},
   "outputs": [],
   "source": [
    "assert True, 'Always triggers an AssertionError.'"
   ]
  },
  {
   "cell_type": "markdown",
   "id": "sensitive-angle",
   "metadata": {},
   "source": [
    "Question 4&5"
   ]
  },
  {
   "cell_type": "code",
   "execution_count": 38,
   "id": "forward-amplifier",
   "metadata": {},
   "outputs": [],
   "source": [
    "import logging\n",
    "logging.basicConfig(\n",
    "    filename='programLog.txt',\n",
    "    level=logging.DEBUG,\n",
    "    format='%(asctime)s - %(levelname)s - %(message)s') #it worked!"
   ]
  },
  {
   "cell_type": "markdown",
   "id": "crazy-referral",
   "metadata": {},
   "source": [
    "Question 6"
   ]
  },
  {
   "cell_type": "markdown",
   "id": "loaded-iceland",
   "metadata": {},
   "source": [
    "WARNING, ERROR, INFO, CRITICAL and DEBUG"
   ]
  },
  {
   "cell_type": "markdown",
   "id": "administrative-burner",
   "metadata": {},
   "source": [
    "Question 7"
   ]
  },
  {
   "cell_type": "code",
   "execution_count": 40,
   "id": "posted-feeling",
   "metadata": {},
   "outputs": [],
   "source": [
    "logging.disable(logging.DEBUG)"
   ]
  },
  {
   "cell_type": "markdown",
   "id": "local-minutes",
   "metadata": {},
   "source": [
    "Question 8"
   ]
  },
  {
   "cell_type": "markdown",
   "id": "domestic-treasurer",
   "metadata": {},
   "source": [
    "Logging message gives you the flexiblity to change the settings on and off when writing a file."
   ]
  },
  {
   "cell_type": "markdown",
   "id": "naval-circular",
   "metadata": {},
   "source": [
    "Question 9"
   ]
  },
  {
   "cell_type": "markdown",
   "id": "fatty-local",
   "metadata": {},
   "source": [
    "Step - excecution happens in one line.\n",
    "\n",
    "Over - the execution of the next line code occurs wh,le when it is a program the whole function call happens.\n",
    "\n",
    "Out  - until the most recent function call, all the lines of codes are exceuted. "
   ]
  },
  {
   "cell_type": "markdown",
   "id": "bronze-jimmy",
   "metadata": {},
   "source": [
    "Question 10"
   ]
  },
  {
   "cell_type": "markdown",
   "id": "freelance-sender",
   "metadata": {},
   "source": [
    "Until the program terminates, it continues to run. "
   ]
  },
  {
   "cell_type": "markdown",
   "id": "cutting-staff",
   "metadata": {},
   "source": [
    "Question 11"
   ]
  },
  {
   "cell_type": "markdown",
   "id": "described-chile",
   "metadata": {},
   "source": [
    "Debugger is paused when a breakpoint is set up."
   ]
  },
  {
   "cell_type": "markdown",
   "id": "lyric-fleece",
   "metadata": {},
   "source": [
    "# Chapter 11 - Evaluation"
   ]
  },
  {
   "cell_type": "markdown",
   "id": "solved-reliance",
   "metadata": {},
   "source": [
    "This chapter explained how to spot bugs and correct them. As the lines of codes get more complex over time, the unexpected error tools can help to intersect the line of code. Here we looked as Raise statement and Exception function and also I had a chance to practice with a program. Also, dividing the logging fucntions by their improtance was explored. These tools are essential for programing as they make it easier to write bug free codes. Finally, I can say that it went well in this chapter."
   ]
  },
  {
   "cell_type": "markdown",
   "id": "prerequisite-zealand",
   "metadata": {},
   "source": [
    "# Chapter 12 – Web Scraping"
   ]
  },
  {
   "cell_type": "markdown",
   "id": "antique-consent",
   "metadata": {},
   "source": [
    "Practice\n",
    "\n",
    "Downloading web pages by using requests.get() function"
   ]
  },
  {
   "cell_type": "code",
   "execution_count": 45,
   "id": "extraordinary-identity",
   "metadata": {},
   "outputs": [
    {
     "name": "stdout",
     "output_type": "stream",
     "text": [
      "Requirement already satisfied: requests in c:\\users\\nasbeck\\appdata\\local\\programs\\python\\python39\\lib\\site-packages (2.25.1)\n",
      "Requirement already satisfied: certifi>=2017.4.17 in c:\\users\\nasbeck\\appdata\\local\\programs\\python\\python39\\lib\\site-packages (from requests) (2020.12.5)\n",
      "Requirement already satisfied: chardet<5,>=3.0.2 in c:\\users\\nasbeck\\appdata\\local\\programs\\python\\python39\\lib\\site-packages (from requests) (4.0.0)\n",
      "Requirement already satisfied: urllib3<1.27,>=1.21.1 in c:\\users\\nasbeck\\appdata\\local\\programs\\python\\python39\\lib\\site-packages (from requests) (1.26.3)\n",
      "Requirement already satisfied: idna<3,>=2.5 in c:\\users\\nasbeck\\appdata\\local\\programs\\python\\python39\\lib\\site-packages (from requests) (2.10)\n",
      "Note: you may need to restart the kernel to use updated packages.\n"
     ]
    },
    {
     "name": "stderr",
     "output_type": "stream",
     "text": [
      "WARNING: You are using pip version 20.2.3; however, version 21.1.2 is available.\n",
      "You should consider upgrading via the 'c:\\users\\nasbeck\\appdata\\local\\programs\\python\\python39\\python.exe -m pip install --upgrade pip' command.\n"
     ]
    }
   ],
   "source": [
    "pip install --user requests"
   ]
  },
  {
   "cell_type": "code",
   "execution_count": 46,
   "id": "featured-accuracy",
   "metadata": {},
   "outputs": [],
   "source": [
    "import requests"
   ]
  },
  {
   "cell_type": "code",
   "execution_count": 47,
   "id": "noble-china",
   "metadata": {},
   "outputs": [],
   "source": [
    "res = requests.get('http://automatetheboringstuff.com/files/rj.txt')"
   ]
  },
  {
   "cell_type": "code",
   "execution_count": 48,
   "id": "qualified-turkish",
   "metadata": {},
   "outputs": [
    {
     "data": {
      "text/plain": [
       "requests.models.Response"
      ]
     },
     "execution_count": 48,
     "metadata": {},
     "output_type": "execute_result"
    }
   ],
   "source": [
    "type(res)"
   ]
  },
  {
   "cell_type": "code",
   "execution_count": 49,
   "id": "unauthorized-flush",
   "metadata": {},
   "outputs": [
    {
     "data": {
      "text/plain": [
       "178978"
      ]
     },
     "execution_count": 49,
     "metadata": {},
     "output_type": "execute_result"
    }
   ],
   "source": [
    "len(res.text)"
   ]
  },
  {
   "cell_type": "code",
   "execution_count": 50,
   "id": "focal-brush",
   "metadata": {},
   "outputs": [
    {
     "name": "stdout",
     "output_type": "stream",
     "text": [
      "The Project Gutenberg EBook of Romeo and Juliet, by William Shakespeare\r\n",
      "\r\n",
      "This eBook is for the use of anyone anywhere at no cost and with\r\n",
      "almost no\n"
     ]
    }
   ],
   "source": [
    "print(res.text[:150])"
   ]
  },
  {
   "cell_type": "markdown",
   "id": "amazing-metropolitan",
   "metadata": {},
   "source": [
    "Saving downloaded files to a hard drive:"
   ]
  },
  {
   "cell_type": "code",
   "execution_count": 2,
   "id": "eastern-basic",
   "metadata": {},
   "outputs": [],
   "source": [
    "import requests"
   ]
  },
  {
   "cell_type": "code",
   "execution_count": 3,
   "id": "hollow-music",
   "metadata": {},
   "outputs": [],
   "source": [
    "res = requests.get('http://automatetheboringstuff.com/files/rj.txt')"
   ]
  },
  {
   "cell_type": "code",
   "execution_count": 4,
   "id": "typical-integration",
   "metadata": {},
   "outputs": [],
   "source": [
    "res.raise_for_status()"
   ]
  },
  {
   "cell_type": "code",
   "execution_count": 5,
   "id": "hearing-playing",
   "metadata": {},
   "outputs": [],
   "source": [
    "playFile = open('RomeoAndJuliet.txt' , 'wb')"
   ]
  },
  {
   "cell_type": "code",
   "execution_count": 6,
   "id": "brutal-norfolk",
   "metadata": {},
   "outputs": [
    {
     "ename": "NameError",
     "evalue": "name 'chunk' is not defined",
     "output_type": "error",
     "traceback": [
      "\u001b[1;31m---------------------------------------------------------------------------\u001b[0m",
      "\u001b[1;31mNameError\u001b[0m                                 Traceback (most recent call last)",
      "\u001b[1;32m<ipython-input-6-faeee83b55e1>\u001b[0m in \u001b[0;36m<module>\u001b[1;34m\u001b[0m\n\u001b[0;32m      1\u001b[0m \u001b[1;32mfor\u001b[0m \u001b[0mChunk\u001b[0m \u001b[1;32min\u001b[0m \u001b[0mres\u001b[0m\u001b[1;33m.\u001b[0m\u001b[0miter_content\u001b[0m\u001b[1;33m(\u001b[0m\u001b[1;36m100000\u001b[0m\u001b[1;33m)\u001b[0m\u001b[1;33m:\u001b[0m\u001b[1;33m\u001b[0m\u001b[1;33m\u001b[0m\u001b[0m\n\u001b[1;32m----> 2\u001b[1;33m     \u001b[0mplayFile\u001b[0m\u001b[1;33m.\u001b[0m\u001b[0mwrite\u001b[0m\u001b[1;33m(\u001b[0m\u001b[0mchunk\u001b[0m\u001b[1;33m)\u001b[0m\u001b[1;33m\u001b[0m\u001b[1;33m\u001b[0m\u001b[0m\n\u001b[0m",
      "\u001b[1;31mNameError\u001b[0m: name 'chunk' is not defined"
     ]
    }
   ],
   "source": [
    "for Chunk in res.iter_content(100000):\n",
    "    playFile.write(chunk)"
   ]
  },
  {
   "cell_type": "code",
   "execution_count": 61,
   "id": "initial-employee",
   "metadata": {},
   "outputs": [],
   "source": [
    "# Not sure what is wrong but above program did not work as expected."
   ]
  },
  {
   "cell_type": "markdown",
   "id": "fancy-remark",
   "metadata": {},
   "source": [
    "# Project - Downloading XKCD Comics"
   ]
  },
  {
   "cell_type": "code",
   "execution_count": 10,
   "id": "killing-sharing",
   "metadata": {},
   "outputs": [],
   "source": [
    "import requests"
   ]
  },
  {
   "cell_type": "code",
   "execution_count": null,
   "id": "spread-christianity",
   "metadata": {},
   "outputs": [],
   "source": [
    "# Starting url\n",
    "url = 'http://xkcd.com'\n",
    "os.makedirs('xkcd' ,exist_ok = True)\n",
    "last_comic = 1732 - int(input(\"Enter number of comics: \"))\n",
    "while not url.endswith(str(last_comic)+'/'):  \n",
    "    print ('Downloading page %s...'% url)\n",
    "    res = requests.get(url)\n",
    "    res.raise_for_status()  \n",
    "    soup = bs4.BeautifulSoup(res.text, 'html.parser')\n",
    "    comicElem = soup.select('#comic img')\n",
    "    if comicElem == []:\n",
    "        print ('Could not find comic image.')\n",
    "    else:       \n",
    "        pattern = re.compile(r'Image URL \\(for hotlinking/embedding\\): (.*)')       \n",
    "        comicUrl = soup.find(text=pattern)    \n",
    "        comicUrl = pattern.sub(r'\\1', comicUrl).strip()   \n",
    "        print ('Downloading the image %s...'% comicUrl)\n",
    "        Image(url= comicUrl)\n",
    "        res = requests.get(comicUrl)\n",
    "        res.raise_for_status()   \n",
    "        imageFile = open(os.path.join('xkcd', os.path.basename(comicUrl)), 'wb')\n",
    "        for chunk in res.iter_content(100000):\n",
    "            imageFile.write(chunk)\n",
    "        imageFile.close()\n",
    "    prevLink = soup.select('a[rel=\"prev\"]')[0]\n",
    "    url = 'http://xkcd.com' + prevLink.get('href')\n",
    "print ('Done.')"
   ]
  },
  {
   "cell_type": "code",
   "execution_count": null,
   "id": "stylish-craps",
   "metadata": {},
   "outputs": [],
   "source": [
    "# Project was sucessfull as I can download the comics :)"
   ]
  },
  {
   "cell_type": "markdown",
   "id": "independent-twins",
   "metadata": {},
   "source": [
    "# Chapter 12 - Evaluation"
   ]
  },
  {
   "cell_type": "markdown",
   "id": "unique-oregon",
   "metadata": {},
   "source": [
    "In this chapter, I discovered how to prommatically download web pages. The program was used as a web scrapping tool that allows processing the online content. By using requests.get() function, I was able to write a program that allows me to download pages. The chapter also intorduces seleniuum module which is used to send and receive information over the internet such as filling out forms. I am mostly satisfied up considering until now how much I progressed."
   ]
  },
  {
   "cell_type": "markdown",
   "id": "hungarian-cleanup",
   "metadata": {},
   "source": [
    "# Chapter 13 - Working with Excel Spreadsheets"
   ]
  },
  {
   "cell_type": "code",
   "execution_count": 12,
   "id": "equivalent-currency",
   "metadata": {},
   "outputs": [
    {
     "name": "stdout",
     "output_type": "stream",
     "text": [
      "Collecting openpyxl==2.6.2\n",
      "  Downloading openpyxl-2.6.2.tar.gz (173 kB)\n",
      "Collecting jdcal\n",
      "  Downloading jdcal-1.4.1-py2.py3-none-any.whl (9.5 kB)\n",
      "Collecting et_xmlfile\n",
      "  Downloading et_xmlfile-1.1.0-py3-none-any.whl (4.7 kB)\n",
      "Using legacy 'setup.py install' for openpyxl, since package 'wheel' is not installed.\n",
      "Installing collected packages: jdcal, et-xmlfile, openpyxl\n",
      "    Running setup.py install for openpyxl: started\n",
      "    Running setup.py install for openpyxl: finished with status 'done'\n",
      "Successfully installed et-xmlfile-1.1.0 jdcal-1.4.1 openpyxl-2.6.2\n",
      "Note: you may need to restart the kernel to use updated packages.\n"
     ]
    },
    {
     "name": "stderr",
     "output_type": "stream",
     "text": [
      "WARNING: You are using pip version 20.2.3; however, version 21.1.2 is available.\n",
      "You should consider upgrading via the 'c:\\users\\nasbeck\\appdata\\local\\programs\\python\\python39\\python.exe -m pip install --upgrade pip' command.\n"
     ]
    }
   ],
   "source": [
    "pip install --user -U openpyxl==2.6.2"
   ]
  },
  {
   "cell_type": "code",
   "execution_count": 13,
   "id": "cubic-quest",
   "metadata": {},
   "outputs": [],
   "source": [
    "import openpyxl"
   ]
  },
  {
   "cell_type": "code",
   "execution_count": 14,
   "id": "suitable-procurement",
   "metadata": {},
   "outputs": [
    {
     "ename": "FileNotFoundError",
     "evalue": "[Errno 2] No such file or directory: 'example.xlsx'",
     "output_type": "error",
     "traceback": [
      "\u001b[1;31m---------------------------------------------------------------------------\u001b[0m",
      "\u001b[1;31mFileNotFoundError\u001b[0m                         Traceback (most recent call last)",
      "\u001b[1;32m<ipython-input-14-b1eae32ea970>\u001b[0m in \u001b[0;36m<module>\u001b[1;34m\u001b[0m\n\u001b[1;32m----> 1\u001b[1;33m \u001b[0mwb\u001b[0m\u001b[1;33m=\u001b[0m\u001b[0mopenpyxl\u001b[0m\u001b[1;33m.\u001b[0m\u001b[0mload_workbook\u001b[0m\u001b[1;33m(\u001b[0m\u001b[1;34m'example.xlsx'\u001b[0m\u001b[1;33m)\u001b[0m\u001b[1;33m\u001b[0m\u001b[1;33m\u001b[0m\u001b[0m\n\u001b[0m",
      "\u001b[1;32m~\\AppData\\Roaming\\Python\\Python39\\site-packages\\openpyxl\\reader\\excel.py\u001b[0m in \u001b[0;36mload_workbook\u001b[1;34m(filename, read_only, keep_vba, data_only, keep_links)\u001b[0m\n\u001b[0;32m    308\u001b[0m \u001b[1;33m\u001b[0m\u001b[0m\n\u001b[0;32m    309\u001b[0m     \"\"\"\n\u001b[1;32m--> 310\u001b[1;33m     reader = ExcelReader(filename, read_only, keep_vba,\n\u001b[0m\u001b[0;32m    311\u001b[0m                         data_only, keep_links)\n\u001b[0;32m    312\u001b[0m     \u001b[0mreader\u001b[0m\u001b[1;33m.\u001b[0m\u001b[0mread\u001b[0m\u001b[1;33m(\u001b[0m\u001b[1;33m)\u001b[0m\u001b[1;33m\u001b[0m\u001b[1;33m\u001b[0m\u001b[0m\n",
      "\u001b[1;32m~\\AppData\\Roaming\\Python\\Python39\\site-packages\\openpyxl\\reader\\excel.py\u001b[0m in \u001b[0;36m__init__\u001b[1;34m(self, fn, read_only, keep_vba, data_only, keep_links)\u001b[0m\n\u001b[0;32m    124\u001b[0m     def __init__(self,  fn, read_only=False, keep_vba=KEEP_VBA,\n\u001b[0;32m    125\u001b[0m                   data_only=False, keep_links=True):\n\u001b[1;32m--> 126\u001b[1;33m         \u001b[0mself\u001b[0m\u001b[1;33m.\u001b[0m\u001b[0marchive\u001b[0m \u001b[1;33m=\u001b[0m \u001b[0m_validate_archive\u001b[0m\u001b[1;33m(\u001b[0m\u001b[0mfn\u001b[0m\u001b[1;33m)\u001b[0m\u001b[1;33m\u001b[0m\u001b[1;33m\u001b[0m\u001b[0m\n\u001b[0m\u001b[0;32m    127\u001b[0m         \u001b[0mself\u001b[0m\u001b[1;33m.\u001b[0m\u001b[0mvalid_files\u001b[0m \u001b[1;33m=\u001b[0m \u001b[0mself\u001b[0m\u001b[1;33m.\u001b[0m\u001b[0marchive\u001b[0m\u001b[1;33m.\u001b[0m\u001b[0mnamelist\u001b[0m\u001b[1;33m(\u001b[0m\u001b[1;33m)\u001b[0m\u001b[1;33m\u001b[0m\u001b[1;33m\u001b[0m\u001b[0m\n\u001b[0;32m    128\u001b[0m         \u001b[0mself\u001b[0m\u001b[1;33m.\u001b[0m\u001b[0mread_only\u001b[0m \u001b[1;33m=\u001b[0m \u001b[0mread_only\u001b[0m\u001b[1;33m\u001b[0m\u001b[1;33m\u001b[0m\u001b[0m\n",
      "\u001b[1;32m~\\AppData\\Roaming\\Python\\Python39\\site-packages\\openpyxl\\reader\\excel.py\u001b[0m in \u001b[0;36m_validate_archive\u001b[1;34m(filename)\u001b[0m\n\u001b[0;32m     96\u001b[0m             \u001b[1;32mraise\u001b[0m \u001b[0mInvalidFileException\u001b[0m\u001b[1;33m(\u001b[0m\u001b[0mmsg\u001b[0m\u001b[1;33m)\u001b[0m\u001b[1;33m\u001b[0m\u001b[1;33m\u001b[0m\u001b[0m\n\u001b[0;32m     97\u001b[0m \u001b[1;33m\u001b[0m\u001b[0m\n\u001b[1;32m---> 98\u001b[1;33m     \u001b[0marchive\u001b[0m \u001b[1;33m=\u001b[0m \u001b[0mZipFile\u001b[0m\u001b[1;33m(\u001b[0m\u001b[0mfilename\u001b[0m\u001b[1;33m,\u001b[0m \u001b[1;34m'r'\u001b[0m\u001b[1;33m)\u001b[0m\u001b[1;33m\u001b[0m\u001b[1;33m\u001b[0m\u001b[0m\n\u001b[0m\u001b[0;32m     99\u001b[0m     \u001b[1;32mreturn\u001b[0m \u001b[0marchive\u001b[0m\u001b[1;33m\u001b[0m\u001b[1;33m\u001b[0m\u001b[0m\n\u001b[0;32m    100\u001b[0m \u001b[1;33m\u001b[0m\u001b[0m\n",
      "\u001b[1;32mc:\\users\\nasbeck\\appdata\\local\\programs\\python\\python39\\lib\\zipfile.py\u001b[0m in \u001b[0;36m__init__\u001b[1;34m(self, file, mode, compression, allowZip64, compresslevel, strict_timestamps)\u001b[0m\n\u001b[0;32m   1237\u001b[0m             \u001b[1;32mwhile\u001b[0m \u001b[1;32mTrue\u001b[0m\u001b[1;33m:\u001b[0m\u001b[1;33m\u001b[0m\u001b[1;33m\u001b[0m\u001b[0m\n\u001b[0;32m   1238\u001b[0m                 \u001b[1;32mtry\u001b[0m\u001b[1;33m:\u001b[0m\u001b[1;33m\u001b[0m\u001b[1;33m\u001b[0m\u001b[0m\n\u001b[1;32m-> 1239\u001b[1;33m                     \u001b[0mself\u001b[0m\u001b[1;33m.\u001b[0m\u001b[0mfp\u001b[0m \u001b[1;33m=\u001b[0m \u001b[0mio\u001b[0m\u001b[1;33m.\u001b[0m\u001b[0mopen\u001b[0m\u001b[1;33m(\u001b[0m\u001b[0mfile\u001b[0m\u001b[1;33m,\u001b[0m \u001b[0mfilemode\u001b[0m\u001b[1;33m)\u001b[0m\u001b[1;33m\u001b[0m\u001b[1;33m\u001b[0m\u001b[0m\n\u001b[0m\u001b[0;32m   1240\u001b[0m                 \u001b[1;32mexcept\u001b[0m \u001b[0mOSError\u001b[0m\u001b[1;33m:\u001b[0m\u001b[1;33m\u001b[0m\u001b[1;33m\u001b[0m\u001b[0m\n\u001b[0;32m   1241\u001b[0m                     \u001b[1;32mif\u001b[0m \u001b[0mfilemode\u001b[0m \u001b[1;32min\u001b[0m \u001b[0mmodeDict\u001b[0m\u001b[1;33m:\u001b[0m\u001b[1;33m\u001b[0m\u001b[1;33m\u001b[0m\u001b[0m\n",
      "\u001b[1;31mFileNotFoundError\u001b[0m: [Errno 2] No such file or directory: 'example.xlsx'"
     ]
    }
   ],
   "source": [
    "wb=openpyxl.load_workbook('example.xlsx')"
   ]
  },
  {
   "cell_type": "code",
   "execution_count": 15,
   "id": "gothic-things",
   "metadata": {},
   "outputs": [],
   "source": [
    "import os"
   ]
  },
  {
   "cell_type": "code",
   "execution_count": 16,
   "id": "academic-haiti",
   "metadata": {},
   "outputs": [
    {
     "data": {
      "text/plain": [
       "'C:\\\\Users\\\\nasbeck'"
      ]
     },
     "execution_count": 16,
     "metadata": {},
     "output_type": "execute_result"
    }
   ],
   "source": [
    "os.getcwd()"
   ]
  },
  {
   "cell_type": "code",
   "execution_count": 17,
   "id": "competitive-azerbaijan",
   "metadata": {},
   "outputs": [],
   "source": [
    "import openpyxl"
   ]
  },
  {
   "cell_type": "code",
   "execution_count": 18,
   "id": "diagnostic-niger",
   "metadata": {
    "scrolled": true
   },
   "outputs": [
    {
     "ename": "FileNotFoundError",
     "evalue": "[Errno 2] No such file or directory: 'example.xlsx'",
     "output_type": "error",
     "traceback": [
      "\u001b[1;31m---------------------------------------------------------------------------\u001b[0m",
      "\u001b[1;31mFileNotFoundError\u001b[0m                         Traceback (most recent call last)",
      "\u001b[1;32m<ipython-input-18-b1eae32ea970>\u001b[0m in \u001b[0;36m<module>\u001b[1;34m\u001b[0m\n\u001b[1;32m----> 1\u001b[1;33m \u001b[0mwb\u001b[0m\u001b[1;33m=\u001b[0m\u001b[0mopenpyxl\u001b[0m\u001b[1;33m.\u001b[0m\u001b[0mload_workbook\u001b[0m\u001b[1;33m(\u001b[0m\u001b[1;34m'example.xlsx'\u001b[0m\u001b[1;33m)\u001b[0m\u001b[1;33m\u001b[0m\u001b[1;33m\u001b[0m\u001b[0m\n\u001b[0m",
      "\u001b[1;32m~\\AppData\\Roaming\\Python\\Python39\\site-packages\\openpyxl\\reader\\excel.py\u001b[0m in \u001b[0;36mload_workbook\u001b[1;34m(filename, read_only, keep_vba, data_only, keep_links)\u001b[0m\n\u001b[0;32m    308\u001b[0m \u001b[1;33m\u001b[0m\u001b[0m\n\u001b[0;32m    309\u001b[0m     \"\"\"\n\u001b[1;32m--> 310\u001b[1;33m     reader = ExcelReader(filename, read_only, keep_vba,\n\u001b[0m\u001b[0;32m    311\u001b[0m                         data_only, keep_links)\n\u001b[0;32m    312\u001b[0m     \u001b[0mreader\u001b[0m\u001b[1;33m.\u001b[0m\u001b[0mread\u001b[0m\u001b[1;33m(\u001b[0m\u001b[1;33m)\u001b[0m\u001b[1;33m\u001b[0m\u001b[1;33m\u001b[0m\u001b[0m\n",
      "\u001b[1;32m~\\AppData\\Roaming\\Python\\Python39\\site-packages\\openpyxl\\reader\\excel.py\u001b[0m in \u001b[0;36m__init__\u001b[1;34m(self, fn, read_only, keep_vba, data_only, keep_links)\u001b[0m\n\u001b[0;32m    124\u001b[0m     def __init__(self,  fn, read_only=False, keep_vba=KEEP_VBA,\n\u001b[0;32m    125\u001b[0m                   data_only=False, keep_links=True):\n\u001b[1;32m--> 126\u001b[1;33m         \u001b[0mself\u001b[0m\u001b[1;33m.\u001b[0m\u001b[0marchive\u001b[0m \u001b[1;33m=\u001b[0m \u001b[0m_validate_archive\u001b[0m\u001b[1;33m(\u001b[0m\u001b[0mfn\u001b[0m\u001b[1;33m)\u001b[0m\u001b[1;33m\u001b[0m\u001b[1;33m\u001b[0m\u001b[0m\n\u001b[0m\u001b[0;32m    127\u001b[0m         \u001b[0mself\u001b[0m\u001b[1;33m.\u001b[0m\u001b[0mvalid_files\u001b[0m \u001b[1;33m=\u001b[0m \u001b[0mself\u001b[0m\u001b[1;33m.\u001b[0m\u001b[0marchive\u001b[0m\u001b[1;33m.\u001b[0m\u001b[0mnamelist\u001b[0m\u001b[1;33m(\u001b[0m\u001b[1;33m)\u001b[0m\u001b[1;33m\u001b[0m\u001b[1;33m\u001b[0m\u001b[0m\n\u001b[0;32m    128\u001b[0m         \u001b[0mself\u001b[0m\u001b[1;33m.\u001b[0m\u001b[0mread_only\u001b[0m \u001b[1;33m=\u001b[0m \u001b[0mread_only\u001b[0m\u001b[1;33m\u001b[0m\u001b[1;33m\u001b[0m\u001b[0m\n",
      "\u001b[1;32m~\\AppData\\Roaming\\Python\\Python39\\site-packages\\openpyxl\\reader\\excel.py\u001b[0m in \u001b[0;36m_validate_archive\u001b[1;34m(filename)\u001b[0m\n\u001b[0;32m     96\u001b[0m             \u001b[1;32mraise\u001b[0m \u001b[0mInvalidFileException\u001b[0m\u001b[1;33m(\u001b[0m\u001b[0mmsg\u001b[0m\u001b[1;33m)\u001b[0m\u001b[1;33m\u001b[0m\u001b[1;33m\u001b[0m\u001b[0m\n\u001b[0;32m     97\u001b[0m \u001b[1;33m\u001b[0m\u001b[0m\n\u001b[1;32m---> 98\u001b[1;33m     \u001b[0marchive\u001b[0m \u001b[1;33m=\u001b[0m \u001b[0mZipFile\u001b[0m\u001b[1;33m(\u001b[0m\u001b[0mfilename\u001b[0m\u001b[1;33m,\u001b[0m \u001b[1;34m'r'\u001b[0m\u001b[1;33m)\u001b[0m\u001b[1;33m\u001b[0m\u001b[1;33m\u001b[0m\u001b[0m\n\u001b[0m\u001b[0;32m     99\u001b[0m     \u001b[1;32mreturn\u001b[0m \u001b[0marchive\u001b[0m\u001b[1;33m\u001b[0m\u001b[1;33m\u001b[0m\u001b[0m\n\u001b[0;32m    100\u001b[0m \u001b[1;33m\u001b[0m\u001b[0m\n",
      "\u001b[1;32mc:\\users\\nasbeck\\appdata\\local\\programs\\python\\python39\\lib\\zipfile.py\u001b[0m in \u001b[0;36m__init__\u001b[1;34m(self, file, mode, compression, allowZip64, compresslevel, strict_timestamps)\u001b[0m\n\u001b[0;32m   1237\u001b[0m             \u001b[1;32mwhile\u001b[0m \u001b[1;32mTrue\u001b[0m\u001b[1;33m:\u001b[0m\u001b[1;33m\u001b[0m\u001b[1;33m\u001b[0m\u001b[0m\n\u001b[0;32m   1238\u001b[0m                 \u001b[1;32mtry\u001b[0m\u001b[1;33m:\u001b[0m\u001b[1;33m\u001b[0m\u001b[1;33m\u001b[0m\u001b[0m\n\u001b[1;32m-> 1239\u001b[1;33m                     \u001b[0mself\u001b[0m\u001b[1;33m.\u001b[0m\u001b[0mfp\u001b[0m \u001b[1;33m=\u001b[0m \u001b[0mio\u001b[0m\u001b[1;33m.\u001b[0m\u001b[0mopen\u001b[0m\u001b[1;33m(\u001b[0m\u001b[0mfile\u001b[0m\u001b[1;33m,\u001b[0m \u001b[0mfilemode\u001b[0m\u001b[1;33m)\u001b[0m\u001b[1;33m\u001b[0m\u001b[1;33m\u001b[0m\u001b[0m\n\u001b[0m\u001b[0;32m   1240\u001b[0m                 \u001b[1;32mexcept\u001b[0m \u001b[0mOSError\u001b[0m\u001b[1;33m:\u001b[0m\u001b[1;33m\u001b[0m\u001b[1;33m\u001b[0m\u001b[0m\n\u001b[0;32m   1241\u001b[0m                     \u001b[1;32mif\u001b[0m \u001b[0mfilemode\u001b[0m \u001b[1;32min\u001b[0m \u001b[0mmodeDict\u001b[0m\u001b[1;33m:\u001b[0m\u001b[1;33m\u001b[0m\u001b[1;33m\u001b[0m\u001b[0m\n",
      "\u001b[1;31mFileNotFoundError\u001b[0m: [Errno 2] No such file or directory: 'example.xlsx'"
     ]
    }
   ],
   "source": [
    "wb=openpyxl.load_workbook('example.xlsx')"
   ]
  },
  {
   "cell_type": "markdown",
   "id": "brown-microphone",
   "metadata": {},
   "source": [
    "# Chapter 13 - Evaluation"
   ]
  },
  {
   "cell_type": "markdown",
   "id": "modern-theater",
   "metadata": {},
   "source": [
    "This chapter explains about how to use programming as a tool to advance excel skills. While the book explains the process step by step, I am unable to solve the \"FileNotFoundError\".  Nevertheless, it was still importnat for me to go thtough the book as it explained how yo make complex calculations, altering excel sheets and using many functionalities such as converting between collumn input values.    "
   ]
  },
  {
   "cell_type": "code",
   "execution_count": null,
   "id": "coordinate-ethics",
   "metadata": {},
   "outputs": [],
   "source": []
  }
 ],
 "metadata": {
  "kernelspec": {
   "display_name": "Python 3",
   "language": "python",
   "name": "python3"
  },
  "language_info": {
   "codemirror_mode": {
    "name": "ipython",
    "version": 3
   },
   "file_extension": ".py",
   "mimetype": "text/x-python",
   "name": "python",
   "nbconvert_exporter": "python",
   "pygments_lexer": "ipython3",
   "version": "3.9.2"
  }
 },
 "nbformat": 4,
 "nbformat_minor": 5
}
